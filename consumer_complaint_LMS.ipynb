{
 "cells": [
  {
   "cell_type": "markdown",
   "metadata": {
    "id": "KPpvecwEpopQ"
   },
   "source": [
    "# <span style=\"color:lightblue\">DATA SCIENCE AND MACHINE LEARNING INTERNSHIP PROGRAM</span>\n",
    "<h2><center>Mini Project 2 - Consumer Compliant Resolution<br>Analysis Using Python</center><h2>"
   ]
  },
  {
   "cell_type": "markdown",
   "metadata": {},
   "source": [
    "### **<span style=\"color:lightblue\">**Scenario:**</span>**\n",
    "Product review is the most basic funciton/factor in resolving customer issues and increasing the sales growth of any product. We can understand their mindset toward our service without asking each customer.\n",
    "\n",
    "When consumers are unhappy with some aspect of a business, they reach out to customer service and might raise a complaint. Companies try thier best to resolve the complaints that they receive. However, it might not always be possible to appease every customer.\n",
    "\n",
    "So here, we will analyse data, and with the help of different algorithms, we are finding the best classification of customer category so that we can predict our test data.\n",
    "\n",
    "### **<span style=\"color:lightblue\">**Object:**</span>**\n",
    "Use Python libraries such as Pandas for data operations, Seaborn and Matplotlib for data visualization and EDA tasks, Sklearn for model building and performance visualization, and based on the best model, make a prediction for the test file and save the output.\n",
    "\n",
    "The main objective is to predict whether our customer is disputed or not with the help of given data\n",
    "\n",
    "### **<span style=\"color:lightblue\">**Dataset description:**</span>**\n",
    "Customers faced some issues and tried to report their problems to customer care.\n",
    "\n",
    "Dispute: This is our target variable based on training data; we have two groups, one with a dispute with the bank and another don't have any issue with the bank.\n",
    "\n",
    "Date received: The day complaint was received.\n",
    "\n",
    "Product: different products offered by the bank (credit cards, debit cards, different types of transaction methods, accounts, locker services and money-related)\n",
    "\n",
    "Sub-product: loan, insurance, other mortgage options\n",
    "\n",
    "Issue: Complaint of customers\n",
    "\n",
    "Company public response: Company's response to consumer complaint\n",
    "\n",
    "Company: Company name\n",
    "\n",
    "State: State where the customer lives (different state of USA)\n",
    "\n",
    "ZIP code: Where the customer lives\n",
    "\n",
    "Submitted via: Register complaints via different platforms (online web, phone, referral, fax, post mail)\n",
    "\n",
    "Date sent to company: The day complaint was registered\n",
    "\n",
    "Timely response?:Yes/no\n",
    "\n",
    "Consumer disputed?:yes/no (target variable)\n",
    "\n",
    "Complaint ID: unique to each consumer\n",
    "\n",
    "### **<span style=\"color:lightblue\">**Tasks to be performed:**</span>**\n",
    "The following tasks would be performed:\n",
    "\n",
    "**Note:** Complete the steps on both train and test data\n",
    "* Read the Data from the Given excel file.\n",
    "* Check the data type for both data (test file and train file)\n",
    "* Do missing value analysis and drop columns where more than 25% of data are missing\n",
    "* Extracting Day, Month, and Year from Date Received Column and create new fields for da month, year, and day\n",
    "* Calculate the Number of Days the Complaint was with the Company and create a new field as \"Days held\"\n",
    "* Drop \"Date Received\", \"Date Sent to Company\", \"ZIP Code\", \"Complaint ID\", fields\n",
    "* Imputing Null value in \"State\" by Mode\n",
    "* with the help of the days we calculated above, create a new field \"Week_Received\" where we calculate the week based on the day of receiving\n",
    "* store data of disputed people into the \"disputed_cons\" variable for future tasks\n",
    "* plot bar graph of the total no of disputes of customers with the help of seaborn\n",
    "* plot bar graph of the total no of disputes products-wise with the help of seaborn\n",
    "* plot bar graph of the total no of disputes with Top Issues by Highest Disputes, with the help of seaborn\n",
    "* Plot bar graph of the total no of disputes by State with Maximum Disputes\n",
    "* Plot bar graph of the total no of disputes Submitted Via different source\n",
    "*  Plot bar graph of the total no of disputes where the Company's Response to the\n",
    "Complaints\n",
    "* Plot bar graph of the total no of disputes where the Company's Response Leads to\n",
    "Disputes\n",
    "* Plot bar graph of the total no of disputes. Whether there are Disputes Instead of Timely\n",
    "Response\n",
    "* Plot bar graph of the total no of disputes over Year Wise Complaints\n",
    "* Plot bar graph of the total no of disputes over Year Wise Disputes\n",
    "* Plot bar graph of Top Companies with Highest Complaints\n",
    "* Convert all negative days held to zero (it is the time taken by the authority that can't be\n",
    "negative)\n",
    "* Drop Unnecessary Columns for the Model Building\n",
    "like:'Company', 'State', 'Year_Received', 'Days_held'\n",
    "* Change Consumer Disputed Column to 0 and 1(yes to 1, and no to 0)\n",
    "* Create Dummy Variables for categorical features and concat with the original data frame\n",
    "like: 'Product,’ 'Submitted via,’ 'Company response to consumer,’ 'Timely response?'\n",
    "* Scaling the Data Sets (note: discard dependent variable before doing standardization)\n",
    "and Make feature Selection with the help of PCA up to 80% of the information.\n",
    "* Splitting the Data Sets Into X and Y by the dependent and independent variables (data\n",
    "selected by PCA)\n",
    "* Build given models and measure their test and validation accuracy:\n",
    "    - LogisticRegression\n",
    "    - DecisionTreeClassifier\n",
    "    - RandomForestClassifier\n",
    "    - AdaBoostClassifier\n",
    "    - GradientBoostingClassifier\n",
    "    - KNeighborsClassifier\n",
    "    - XGBClassifier\n",
    "* Whoever gives the most accurate result uses it and predicts the outcome for the test file\n",
    "and fills its dispute column so the business team can take some action accordingly."
   ]
  },
  {
   "cell_type": "markdown",
   "metadata": {
    "id": "qdiFBmcBpopt"
   },
   "source": [
    "Importing required libraries"
   ]
  },
  {
   "cell_type": "code",
   "execution_count": 1,
   "metadata": {
    "id": "nRvORrhJpopv"
   },
   "outputs": [],
   "source": [
    "import pandas as pd\n",
    "import numpy as np\n",
    "import matplotlib.pyplot as plt\n",
    "import seaborn as sns"
   ]
  },
  {
   "cell_type": "markdown",
   "metadata": {
    "id": "9psaFBmPpop0"
   },
   "source": [
    "Load given datasets"
   ]
  },
  {
   "cell_type": "code",
   "execution_count": 2,
   "metadata": {
    "id": "q3hRmG1Zpop3"
   },
   "outputs": [],
   "source": [
    "cc_test_df = pd.read_csv(\"./Data/Mini_Project2/Consumer_Complaints_test.csv\")\n",
    "cc_train_df = pd.read_csv(\"./Data/Mini_Project2/Consumer_Complaints_train.csv\")"
   ]
  },
  {
   "cell_type": "markdown",
   "metadata": {
    "id": "Xp8W3eXcpop5"
   },
   "source": [
    "Print top 5 records of train dataset"
   ]
  },
  {
   "cell_type": "code",
   "execution_count": 3,
   "metadata": {
    "id": "w1b67V24pop6"
   },
   "outputs": [
    {
     "data": {
      "text/html": [
       "<div>\n",
       "<style scoped>\n",
       "    .dataframe tbody tr th:only-of-type {\n",
       "        vertical-align: middle;\n",
       "    }\n",
       "\n",
       "    .dataframe tbody tr th {\n",
       "        vertical-align: top;\n",
       "    }\n",
       "\n",
       "    .dataframe thead th {\n",
       "        text-align: right;\n",
       "    }\n",
       "</style>\n",
       "<table border=\"1\" class=\"dataframe\">\n",
       "  <thead>\n",
       "    <tr style=\"text-align: right;\">\n",
       "      <th></th>\n",
       "      <th>Date received</th>\n",
       "      <th>Product</th>\n",
       "      <th>Sub-product</th>\n",
       "      <th>Issue</th>\n",
       "      <th>Sub-issue</th>\n",
       "      <th>Consumer complaint narrative</th>\n",
       "      <th>Company public response</th>\n",
       "      <th>Company</th>\n",
       "      <th>State</th>\n",
       "      <th>ZIP code</th>\n",
       "      <th>Tags</th>\n",
       "      <th>Consumer consent provided?</th>\n",
       "      <th>Submitted via</th>\n",
       "      <th>Date sent to company</th>\n",
       "      <th>Company response to consumer</th>\n",
       "      <th>Timely response?</th>\n",
       "      <th>Consumer disputed?</th>\n",
       "      <th>Complaint ID</th>\n",
       "    </tr>\n",
       "  </thead>\n",
       "  <tbody>\n",
       "    <tr>\n",
       "      <th>0</th>\n",
       "      <td>2015-10-14</td>\n",
       "      <td>Credit reporting</td>\n",
       "      <td>NaN</td>\n",
       "      <td>Incorrect information on credit report</td>\n",
       "      <td>Information is not mine</td>\n",
       "      <td>NaN</td>\n",
       "      <td>NaN</td>\n",
       "      <td>Equifax</td>\n",
       "      <td>GA</td>\n",
       "      <td>30134</td>\n",
       "      <td>NaN</td>\n",
       "      <td>Consent not provided</td>\n",
       "      <td>Web</td>\n",
       "      <td>2015-10-14</td>\n",
       "      <td>Closed with explanation</td>\n",
       "      <td>Yes</td>\n",
       "      <td>No</td>\n",
       "      <td>1605653</td>\n",
       "    </tr>\n",
       "    <tr>\n",
       "      <th>1</th>\n",
       "      <td>2015-04-26</td>\n",
       "      <td>Bank account or service</td>\n",
       "      <td>Other bank product/service</td>\n",
       "      <td>Deposits and withdrawals</td>\n",
       "      <td>NaN</td>\n",
       "      <td>RE : XXXX XXXX XXXX-PRIVILEGED AND CONFIDENTIA...</td>\n",
       "      <td>NaN</td>\n",
       "      <td>Wells Fargo &amp; Company</td>\n",
       "      <td>GA</td>\n",
       "      <td>319XX</td>\n",
       "      <td>NaN</td>\n",
       "      <td>Consent provided</td>\n",
       "      <td>Web</td>\n",
       "      <td>2015-04-26</td>\n",
       "      <td>Closed with explanation</td>\n",
       "      <td>Yes</td>\n",
       "      <td>Yes</td>\n",
       "      <td>1347613</td>\n",
       "    </tr>\n",
       "    <tr>\n",
       "      <th>2</th>\n",
       "      <td>2013-12-20</td>\n",
       "      <td>Credit card</td>\n",
       "      <td>NaN</td>\n",
       "      <td>Other</td>\n",
       "      <td>NaN</td>\n",
       "      <td>NaN</td>\n",
       "      <td>NaN</td>\n",
       "      <td>Citibank</td>\n",
       "      <td>SC</td>\n",
       "      <td>29203</td>\n",
       "      <td>NaN</td>\n",
       "      <td>NaN</td>\n",
       "      <td>Phone</td>\n",
       "      <td>2014-01-03</td>\n",
       "      <td>Closed with non-monetary relief</td>\n",
       "      <td>Yes</td>\n",
       "      <td>No</td>\n",
       "      <td>640394</td>\n",
       "    </tr>\n",
       "    <tr>\n",
       "      <th>3</th>\n",
       "      <td>2016-03-03</td>\n",
       "      <td>Debt collection</td>\n",
       "      <td>Other (i.e. phone, health club, etc.)</td>\n",
       "      <td>Disclosure verification of debt</td>\n",
       "      <td>Not given enough info to verify debt</td>\n",
       "      <td>NaN</td>\n",
       "      <td>Company has responded to the consumer and the ...</td>\n",
       "      <td>FAIR COLLECTIONS &amp; OUTSOURCING, INC.</td>\n",
       "      <td>OH</td>\n",
       "      <td>43082</td>\n",
       "      <td>NaN</td>\n",
       "      <td>NaN</td>\n",
       "      <td>Referral</td>\n",
       "      <td>2016-03-04</td>\n",
       "      <td>Closed with explanation</td>\n",
       "      <td>Yes</td>\n",
       "      <td>No</td>\n",
       "      <td>1815134</td>\n",
       "    </tr>\n",
       "    <tr>\n",
       "      <th>4</th>\n",
       "      <td>2015-01-30</td>\n",
       "      <td>Debt collection</td>\n",
       "      <td>Medical</td>\n",
       "      <td>Disclosure verification of debt</td>\n",
       "      <td>Not given enough info to verify debt</td>\n",
       "      <td>NaN</td>\n",
       "      <td>NaN</td>\n",
       "      <td>HCFS Health Care Financial Services, Inc.</td>\n",
       "      <td>CA</td>\n",
       "      <td>90036</td>\n",
       "      <td>NaN</td>\n",
       "      <td>NaN</td>\n",
       "      <td>Web</td>\n",
       "      <td>2015-01-30</td>\n",
       "      <td>Closed with explanation</td>\n",
       "      <td>Yes</td>\n",
       "      <td>Yes</td>\n",
       "      <td>1218613</td>\n",
       "    </tr>\n",
       "  </tbody>\n",
       "</table>\n",
       "</div>"
      ],
      "text/plain": [
       "  Date received                  Product  \\\n",
       "0    2015-10-14         Credit reporting   \n",
       "1    2015-04-26  Bank account or service   \n",
       "2    2013-12-20              Credit card   \n",
       "3    2016-03-03          Debt collection   \n",
       "4    2015-01-30          Debt collection   \n",
       "\n",
       "                             Sub-product  \\\n",
       "0                                    NaN   \n",
       "1             Other bank product/service   \n",
       "2                                    NaN   \n",
       "3  Other (i.e. phone, health club, etc.)   \n",
       "4                                Medical   \n",
       "\n",
       "                                    Issue  \\\n",
       "0  Incorrect information on credit report   \n",
       "1                Deposits and withdrawals   \n",
       "2                                   Other   \n",
       "3         Disclosure verification of debt   \n",
       "4         Disclosure verification of debt   \n",
       "\n",
       "                              Sub-issue  \\\n",
       "0               Information is not mine   \n",
       "1                                   NaN   \n",
       "2                                   NaN   \n",
       "3  Not given enough info to verify debt   \n",
       "4  Not given enough info to verify debt   \n",
       "\n",
       "                        Consumer complaint narrative  \\\n",
       "0                                                NaN   \n",
       "1  RE : XXXX XXXX XXXX-PRIVILEGED AND CONFIDENTIA...   \n",
       "2                                                NaN   \n",
       "3                                                NaN   \n",
       "4                                                NaN   \n",
       "\n",
       "                             Company public response  \\\n",
       "0                                                NaN   \n",
       "1                                                NaN   \n",
       "2                                                NaN   \n",
       "3  Company has responded to the consumer and the ...   \n",
       "4                                                NaN   \n",
       "\n",
       "                                     Company State ZIP code Tags  \\\n",
       "0                                    Equifax    GA    30134  NaN   \n",
       "1                      Wells Fargo & Company    GA    319XX  NaN   \n",
       "2                                   Citibank    SC    29203  NaN   \n",
       "3       FAIR COLLECTIONS & OUTSOURCING, INC.    OH    43082  NaN   \n",
       "4  HCFS Health Care Financial Services, Inc.    CA    90036  NaN   \n",
       "\n",
       "  Consumer consent provided? Submitted via Date sent to company  \\\n",
       "0       Consent not provided           Web           2015-10-14   \n",
       "1           Consent provided           Web           2015-04-26   \n",
       "2                        NaN         Phone           2014-01-03   \n",
       "3                        NaN      Referral           2016-03-04   \n",
       "4                        NaN           Web           2015-01-30   \n",
       "\n",
       "      Company response to consumer Timely response? Consumer disputed?  \\\n",
       "0          Closed with explanation              Yes                 No   \n",
       "1          Closed with explanation              Yes                Yes   \n",
       "2  Closed with non-monetary relief              Yes                 No   \n",
       "3          Closed with explanation              Yes                 No   \n",
       "4          Closed with explanation              Yes                Yes   \n",
       "\n",
       "   Complaint ID  \n",
       "0       1605653  \n",
       "1       1347613  \n",
       "2        640394  \n",
       "3       1815134  \n",
       "4       1218613  "
      ]
     },
     "execution_count": 3,
     "metadata": {},
     "output_type": "execute_result"
    }
   ],
   "source": [
    "cc_train_df.head(5)"
   ]
  },
  {
   "cell_type": "markdown",
   "metadata": {
    "id": "vy0goz35pop7"
   },
   "source": [
    "Print top 5 records of test dataset"
   ]
  },
  {
   "cell_type": "code",
   "execution_count": 4,
   "metadata": {
    "id": "M1GqR9Agpop9"
   },
   "outputs": [
    {
     "data": {
      "text/html": [
       "<div>\n",
       "<style scoped>\n",
       "    .dataframe tbody tr th:only-of-type {\n",
       "        vertical-align: middle;\n",
       "    }\n",
       "\n",
       "    .dataframe tbody tr th {\n",
       "        vertical-align: top;\n",
       "    }\n",
       "\n",
       "    .dataframe thead th {\n",
       "        text-align: right;\n",
       "    }\n",
       "</style>\n",
       "<table border=\"1\" class=\"dataframe\">\n",
       "  <thead>\n",
       "    <tr style=\"text-align: right;\">\n",
       "      <th></th>\n",
       "      <th>Date received</th>\n",
       "      <th>Product</th>\n",
       "      <th>Sub-product</th>\n",
       "      <th>Issue</th>\n",
       "      <th>Sub-issue</th>\n",
       "      <th>Consumer complaint narrative</th>\n",
       "      <th>Company public response</th>\n",
       "      <th>Company</th>\n",
       "      <th>State</th>\n",
       "      <th>ZIP code</th>\n",
       "      <th>Tags</th>\n",
       "      <th>Consumer consent provided?</th>\n",
       "      <th>Submitted via</th>\n",
       "      <th>Date sent to company</th>\n",
       "      <th>Company response to consumer</th>\n",
       "      <th>Timely response?</th>\n",
       "      <th>Consumer disputed?</th>\n",
       "      <th>Complaint ID</th>\n",
       "    </tr>\n",
       "  </thead>\n",
       "  <tbody>\n",
       "    <tr>\n",
       "      <th>0</th>\n",
       "      <td>2015-10-14</td>\n",
       "      <td>Credit reporting</td>\n",
       "      <td>NaN</td>\n",
       "      <td>Incorrect information on credit report</td>\n",
       "      <td>Information is not mine</td>\n",
       "      <td>NaN</td>\n",
       "      <td>NaN</td>\n",
       "      <td>Equifax</td>\n",
       "      <td>GA</td>\n",
       "      <td>30134</td>\n",
       "      <td>NaN</td>\n",
       "      <td>Consent not provided</td>\n",
       "      <td>Web</td>\n",
       "      <td>2015-10-14</td>\n",
       "      <td>Closed with explanation</td>\n",
       "      <td>Yes</td>\n",
       "      <td>No</td>\n",
       "      <td>1605653</td>\n",
       "    </tr>\n",
       "    <tr>\n",
       "      <th>1</th>\n",
       "      <td>2015-04-26</td>\n",
       "      <td>Bank account or service</td>\n",
       "      <td>Other bank product/service</td>\n",
       "      <td>Deposits and withdrawals</td>\n",
       "      <td>NaN</td>\n",
       "      <td>RE : XXXX XXXX XXXX-PRIVILEGED AND CONFIDENTIA...</td>\n",
       "      <td>NaN</td>\n",
       "      <td>Wells Fargo &amp; Company</td>\n",
       "      <td>GA</td>\n",
       "      <td>319XX</td>\n",
       "      <td>NaN</td>\n",
       "      <td>Consent provided</td>\n",
       "      <td>Web</td>\n",
       "      <td>2015-04-26</td>\n",
       "      <td>Closed with explanation</td>\n",
       "      <td>Yes</td>\n",
       "      <td>Yes</td>\n",
       "      <td>1347613</td>\n",
       "    </tr>\n",
       "    <tr>\n",
       "      <th>2</th>\n",
       "      <td>2013-12-20</td>\n",
       "      <td>Credit card</td>\n",
       "      <td>NaN</td>\n",
       "      <td>Other</td>\n",
       "      <td>NaN</td>\n",
       "      <td>NaN</td>\n",
       "      <td>NaN</td>\n",
       "      <td>Citibank</td>\n",
       "      <td>SC</td>\n",
       "      <td>29203</td>\n",
       "      <td>NaN</td>\n",
       "      <td>NaN</td>\n",
       "      <td>Phone</td>\n",
       "      <td>2014-01-03</td>\n",
       "      <td>Closed with non-monetary relief</td>\n",
       "      <td>Yes</td>\n",
       "      <td>No</td>\n",
       "      <td>640394</td>\n",
       "    </tr>\n",
       "    <tr>\n",
       "      <th>3</th>\n",
       "      <td>2016-03-03</td>\n",
       "      <td>Debt collection</td>\n",
       "      <td>Other (i.e. phone, health club, etc.)</td>\n",
       "      <td>Disclosure verification of debt</td>\n",
       "      <td>Not given enough info to verify debt</td>\n",
       "      <td>NaN</td>\n",
       "      <td>Company has responded to the consumer and the ...</td>\n",
       "      <td>FAIR COLLECTIONS &amp; OUTSOURCING, INC.</td>\n",
       "      <td>OH</td>\n",
       "      <td>43082</td>\n",
       "      <td>NaN</td>\n",
       "      <td>NaN</td>\n",
       "      <td>Referral</td>\n",
       "      <td>2016-03-04</td>\n",
       "      <td>Closed with explanation</td>\n",
       "      <td>Yes</td>\n",
       "      <td>No</td>\n",
       "      <td>1815134</td>\n",
       "    </tr>\n",
       "    <tr>\n",
       "      <th>4</th>\n",
       "      <td>2015-01-30</td>\n",
       "      <td>Debt collection</td>\n",
       "      <td>Medical</td>\n",
       "      <td>Disclosure verification of debt</td>\n",
       "      <td>Not given enough info to verify debt</td>\n",
       "      <td>NaN</td>\n",
       "      <td>NaN</td>\n",
       "      <td>HCFS Health Care Financial Services, Inc.</td>\n",
       "      <td>CA</td>\n",
       "      <td>90036</td>\n",
       "      <td>NaN</td>\n",
       "      <td>NaN</td>\n",
       "      <td>Web</td>\n",
       "      <td>2015-01-30</td>\n",
       "      <td>Closed with explanation</td>\n",
       "      <td>Yes</td>\n",
       "      <td>Yes</td>\n",
       "      <td>1218613</td>\n",
       "    </tr>\n",
       "  </tbody>\n",
       "</table>\n",
       "</div>"
      ],
      "text/plain": [
       "  Date received                  Product  \\\n",
       "0    2015-10-14         Credit reporting   \n",
       "1    2015-04-26  Bank account or service   \n",
       "2    2013-12-20              Credit card   \n",
       "3    2016-03-03          Debt collection   \n",
       "4    2015-01-30          Debt collection   \n",
       "\n",
       "                             Sub-product  \\\n",
       "0                                    NaN   \n",
       "1             Other bank product/service   \n",
       "2                                    NaN   \n",
       "3  Other (i.e. phone, health club, etc.)   \n",
       "4                                Medical   \n",
       "\n",
       "                                    Issue  \\\n",
       "0  Incorrect information on credit report   \n",
       "1                Deposits and withdrawals   \n",
       "2                                   Other   \n",
       "3         Disclosure verification of debt   \n",
       "4         Disclosure verification of debt   \n",
       "\n",
       "                              Sub-issue  \\\n",
       "0               Information is not mine   \n",
       "1                                   NaN   \n",
       "2                                   NaN   \n",
       "3  Not given enough info to verify debt   \n",
       "4  Not given enough info to verify debt   \n",
       "\n",
       "                        Consumer complaint narrative  \\\n",
       "0                                                NaN   \n",
       "1  RE : XXXX XXXX XXXX-PRIVILEGED AND CONFIDENTIA...   \n",
       "2                                                NaN   \n",
       "3                                                NaN   \n",
       "4                                                NaN   \n",
       "\n",
       "                             Company public response  \\\n",
       "0                                                NaN   \n",
       "1                                                NaN   \n",
       "2                                                NaN   \n",
       "3  Company has responded to the consumer and the ...   \n",
       "4                                                NaN   \n",
       "\n",
       "                                     Company State ZIP code Tags  \\\n",
       "0                                    Equifax    GA    30134  NaN   \n",
       "1                      Wells Fargo & Company    GA    319XX  NaN   \n",
       "2                                   Citibank    SC    29203  NaN   \n",
       "3       FAIR COLLECTIONS & OUTSOURCING, INC.    OH    43082  NaN   \n",
       "4  HCFS Health Care Financial Services, Inc.    CA    90036  NaN   \n",
       "\n",
       "  Consumer consent provided? Submitted via Date sent to company  \\\n",
       "0       Consent not provided           Web           2015-10-14   \n",
       "1           Consent provided           Web           2015-04-26   \n",
       "2                        NaN         Phone           2014-01-03   \n",
       "3                        NaN      Referral           2016-03-04   \n",
       "4                        NaN           Web           2015-01-30   \n",
       "\n",
       "      Company response to consumer Timely response? Consumer disputed?  \\\n",
       "0          Closed with explanation              Yes                 No   \n",
       "1          Closed with explanation              Yes                Yes   \n",
       "2  Closed with non-monetary relief              Yes                 No   \n",
       "3          Closed with explanation              Yes                 No   \n",
       "4          Closed with explanation              Yes                Yes   \n",
       "\n",
       "   Complaint ID  \n",
       "0       1605653  \n",
       "1       1347613  \n",
       "2        640394  \n",
       "3       1815134  \n",
       "4       1218613  "
      ]
     },
     "execution_count": 4,
     "metadata": {},
     "output_type": "execute_result"
    }
   ],
   "source": [
    "cc_train_df.head(5)"
   ]
  },
  {
   "cell_type": "markdown",
   "metadata": {
    "id": "KzRBJoR7pop-"
   },
   "source": [
    "**Note: Please note that do all given tasks for test and train both datasets.**"
   ]
  },
  {
   "cell_type": "markdown",
   "metadata": {
    "id": "pbq7pvmGpop_"
   },
   "source": [
    "Print shape of train and test datasets "
   ]
  },
  {
   "cell_type": "code",
   "execution_count": 5,
   "metadata": {
    "id": "eFPXZRfMpoqA"
   },
   "outputs": [
    {
     "data": {
      "text/plain": [
       "((358810, 18), (119606, 17))"
      ]
     },
     "execution_count": 5,
     "metadata": {},
     "output_type": "execute_result"
    }
   ],
   "source": [
    "cc_train_df.shape, cc_test_df.shape"
   ]
  },
  {
   "cell_type": "markdown",
   "metadata": {
    "id": "7oPnYhOapoqA"
   },
   "source": [
    "Print columns of train and test datasets"
   ]
  },
  {
   "cell_type": "code",
   "execution_count": 6,
   "metadata": {
    "id": "iPzUL5fUpoqB"
   },
   "outputs": [
    {
     "name": "stdout",
     "output_type": "stream",
     "text": [
      "\n",
      "columns of the training set:\n",
      "Index(['Date received', 'Product', 'Sub-product', 'Issue', 'Sub-issue',\n",
      "       'Consumer complaint narrative', 'Company public response', 'Company',\n",
      "       'State', 'ZIP code', 'Tags', 'Consumer consent provided?',\n",
      "       'Submitted via', 'Date sent to company', 'Company response to consumer',\n",
      "       'Timely response?', 'Consumer disputed?', 'Complaint ID'],\n",
      "      dtype='object')\n",
      "\n",
      "\n",
      "columns of the test set:\n",
      "Index(['Date received', 'Product', 'Sub-product', 'Issue', 'Sub-issue',\n",
      "       'Consumer complaint narrative', 'Company public response', 'Company',\n",
      "       'State', 'ZIP code', 'Tags', 'Consumer consent provided?',\n",
      "       'Submitted via', 'Date sent to company', 'Company response to consumer',\n",
      "       'Timely response?', 'Complaint ID'],\n",
      "      dtype='object')\n",
      "\n"
     ]
    }
   ],
   "source": [
    "print(f\"\"\"\n",
    "columns of the training set:\n",
    "{cc_train_df.columns}\n",
    "\n",
    "\n",
    "columns of the test set:\n",
    "{cc_test_df.columns}\n",
    "\"\"\")"
   ]
  },
  {
   "cell_type": "markdown",
   "metadata": {
    "id": "0HiyNNaKpoqC"
   },
   "source": [
    "Check data type for both datasets"
   ]
  },
  {
   "cell_type": "code",
   "execution_count": 7,
   "metadata": {
    "id": "vxGdAynspoqC"
   },
   "outputs": [
    {
     "data": {
      "text/plain": [
       "Date received                   object\n",
       "Product                         object\n",
       "Sub-product                     object\n",
       "Issue                           object\n",
       "Sub-issue                       object\n",
       "Consumer complaint narrative    object\n",
       "Company public response         object\n",
       "Company                         object\n",
       "State                           object\n",
       "ZIP code                        object\n",
       "Tags                            object\n",
       "Consumer consent provided?      object\n",
       "Submitted via                   object\n",
       "Date sent to company            object\n",
       "Company response to consumer    object\n",
       "Timely response?                object\n",
       "Consumer disputed?              object\n",
       "Complaint ID                     int64\n",
       "dtype: object"
      ]
     },
     "execution_count": 7,
     "metadata": {},
     "output_type": "execute_result"
    }
   ],
   "source": [
    "cc_train_df.dtypes"
   ]
  },
  {
   "cell_type": "code",
   "execution_count": 8,
   "metadata": {},
   "outputs": [
    {
     "data": {
      "text/plain": [
       "Date received                   object\n",
       "Product                         object\n",
       "Sub-product                     object\n",
       "Issue                           object\n",
       "Sub-issue                       object\n",
       "Consumer complaint narrative    object\n",
       "Company public response         object\n",
       "Company                         object\n",
       "State                           object\n",
       "ZIP code                        object\n",
       "Tags                            object\n",
       "Consumer consent provided?      object\n",
       "Submitted via                   object\n",
       "Date sent to company            object\n",
       "Company response to consumer    object\n",
       "Timely response?                object\n",
       "Complaint ID                     int64\n",
       "dtype: object"
      ]
     },
     "execution_count": 8,
     "metadata": {},
     "output_type": "execute_result"
    }
   ],
   "source": [
    "cc_test_df.dtypes"
   ]
  },
  {
   "cell_type": "markdown",
   "metadata": {
    "id": "bLuxvPTupoqD"
   },
   "source": [
    "Print missing values in percentage"
   ]
  },
  {
   "cell_type": "code",
   "execution_count": 9,
   "metadata": {
    "id": "MGG5jiynpoqD"
   },
   "outputs": [
    {
     "name": "stdout",
     "output_type": "stream",
     "text": [
      "\n",
      "Missing values for the training dataset:\n",
      "Date received                    0.000000\n",
      "Product                          0.000000\n",
      "Sub-product                     28.925058\n",
      "Issue                            0.000000\n",
      "Sub-issue                       61.139322\n",
      "Consumer complaint narrative    84.342688\n",
      "Company public response         81.067696\n",
      "Company                          0.000000\n",
      "State                            0.809063\n",
      "ZIP code                         0.811293\n",
      "Tags                            86.002062\n",
      "Consumer consent provided?      71.689752\n",
      "Submitted via                    0.000000\n",
      "Date sent to company             0.000000\n",
      "Company response to consumer     0.000000\n",
      "Timely response?                 0.000000\n",
      "Consumer disputed?               0.000000\n",
      "Complaint ID                     0.000000\n",
      "dtype: float64\n",
      "\n",
      "Missing values for the test dataset:\n",
      "Date received                    0.000000\n",
      "Product                          0.000000\n",
      "Sub-product                     28.997709\n",
      "Issue                            0.000000\n",
      "Sub-issue                       61.242747\n",
      "Consumer complaint narrative    84.186412\n",
      "Company public response         81.221678\n",
      "Company                          0.000000\n",
      "State                            0.782569\n",
      "ZIP code                         0.783406\n",
      "Tags                            85.805896\n",
      "Consumer consent provided?      71.651088\n",
      "Submitted via                    0.000000\n",
      "Date sent to company             0.000000\n",
      "Company response to consumer     0.000000\n",
      "Timely response?                 0.000000\n",
      "Complaint ID                     0.000000\n",
      "dtype: float64\n",
      "\n"
     ]
    }
   ],
   "source": [
    "#for training dataset\n",
    "print(f\"\"\"\n",
    "Missing values for the training dataset:\n",
    "{cc_train_df.isna().sum()/len(cc_train_df) * 100}\n",
    "\n",
    "Missing values for the test dataset:\n",
    "{cc_test_df.isna().sum()/len(cc_test_df) * 100}\n",
    "\"\"\")"
   ]
  },
  {
   "cell_type": "code",
   "execution_count": 10,
   "metadata": {},
   "outputs": [],
   "source": [
    "# train_dropped_columns, test_dropped_columns"
   ]
  },
  {
   "cell_type": "markdown",
   "metadata": {
    "id": "z9mdQc6npoqE"
   },
   "source": [
    "Drop columns where more than 25% of the data are missing."
   ]
  },
  {
   "cell_type": "code",
   "execution_count": 11,
   "metadata": {
    "id": "YJhBaNOqpoqG"
   },
   "outputs": [],
   "source": [
    "def drop_columns(dataFrame, dropped_column=None):\n",
    "    \"\"\"\n",
    "    Custom function just for the task of getting conditional list of columns to be dropped, maybe modified later if necessary\n",
    "    takes a dataframe, and list of columns to be dropped is returned\n",
    "\n",
    "    After modification:\n",
    "    if dropped_column is not empty, a new data frame with the dropped_column is returned\n",
    "    \"\"\"\n",
    "    df = dataFrame.copy()\n",
    "    columns_to_drop=[]\n",
    "    for column in df.columns:\n",
    "        if (df[column].isna().sum()/len(df[column])) > 0.25:\n",
    "            # print(f\"True{column}\")\n",
    "            # print(\"column is supposed to be appended\")\n",
    "            columns_to_drop.append(column)\n",
    "        # print(columns_to_drop)\n",
    "    return columns_to_drop\n"
   ]
  },
  {
   "cell_type": "code",
   "execution_count": 12,
   "metadata": {},
   "outputs": [],
   "source": [
    "# #Getting the columns where more than 25% of the data is missing\n",
    "train_dropped_columns = drop_columns(cc_train_df.copy())\n",
    "test_dropped_columns = drop_columns(cc_test_df.copy())\n",
    "# #dropping columns where more than 25% of the data is missing\n",
    "cc_train_df.drop(columns=train_dropped_columns, axis=1, inplace=True)\n",
    "cc_test_df.drop(columns=train_dropped_columns, axis=1, inplace=True)"
   ]
  },
  {
   "cell_type": "markdown",
   "metadata": {
    "id": "PkddP08zpoqI"
   },
   "source": [
    "Extract Date, Month, and Year from the \"Date Received\" Column and create new fields for year, month, and day.\n",
    "\n",
    "like, df_train['Year_Received'] = df_train['Date received']........(logic)"
   ]
  },
  {
   "cell_type": "code",
   "execution_count": 13,
   "metadata": {},
   "outputs": [
    {
     "data": {
      "text/plain": [
       "Index(['Date received', 'Product', 'Issue', 'Company', 'State', 'ZIP code',\n",
       "       'Submitted via', 'Date sent to company', 'Company response to consumer',\n",
       "       'Timely response?', 'Complaint ID'],\n",
       "      dtype='object')"
      ]
     },
     "execution_count": 13,
     "metadata": {},
     "output_type": "execute_result"
    }
   ],
   "source": [
    "cc_test_df.columns"
   ]
  },
  {
   "cell_type": "code",
   "execution_count": 14,
   "metadata": {
    "id": "B-f5_sc8poqM"
   },
   "outputs": [],
   "source": [
    "# cc_train_df[\"Year_Received\"] = cc_train_df[\"Date received\"]\n",
    "# cc_test_df[\"Year_Received\"] = cc_test_df[\"Date received\"]"
   ]
  },
  {
   "cell_type": "markdown",
   "metadata": {
    "id": "bDzo8Q5HpoqN"
   },
   "source": [
    "Convert dates from object type to datetime type"
   ]
  },
  {
   "cell_type": "code",
   "execution_count": 15,
   "metadata": {
    "id": "D-rUlAE3poqN"
   },
   "outputs": [],
   "source": [
    "#converting the dtype of the column to datetime to easily extract the date info from it\n",
    "cc_train_df[\"Date received\"] = pd.to_datetime(cc_train_df[\"Date received\"])\n",
    "cc_test_df[\"Date received\"] = pd.to_datetime(cc_test_df[\"Date received\"])\n",
    "\n",
    "def extract_date_info(df):\n",
    "    df[\"Year\"] = pd.DatetimeIndex(df[\"Date received\"]).year\n",
    "    df[\"Month\"] = pd.DatetimeIndex(df[\"Date received\"]).month\n",
    "    df[\"Day\"] = pd.DatetimeIndex(df[\"Date received\"]).day\n",
    "\n",
    "extract_date_info(cc_train_df)\n",
    "extract_date_info(cc_test_df)"
   ]
  },
  {
   "cell_type": "code",
   "execution_count": null,
   "metadata": {},
   "outputs": [],
   "source": []
  },
  {
   "cell_type": "markdown",
   "metadata": {
    "id": "C7ZhXjgWpoqO"
   },
   "source": [
    "Calculate the number of days the complaint was with the company\n",
    "\n",
    "create new field with help given logic<br>\n",
    "Like, Days held = Date sent to company - Date received"
   ]
  },
  {
   "cell_type": "code",
   "execution_count": 16,
   "metadata": {},
   "outputs": [
    {
     "data": {
      "text/html": [
       "<div>\n",
       "<style scoped>\n",
       "    .dataframe tbody tr th:only-of-type {\n",
       "        vertical-align: middle;\n",
       "    }\n",
       "\n",
       "    .dataframe tbody tr th {\n",
       "        vertical-align: top;\n",
       "    }\n",
       "\n",
       "    .dataframe thead th {\n",
       "        text-align: right;\n",
       "    }\n",
       "</style>\n",
       "<table border=\"1\" class=\"dataframe\">\n",
       "  <thead>\n",
       "    <tr style=\"text-align: right;\">\n",
       "      <th></th>\n",
       "      <th>Date received</th>\n",
       "      <th>Product</th>\n",
       "      <th>Issue</th>\n",
       "      <th>Company</th>\n",
       "      <th>State</th>\n",
       "      <th>ZIP code</th>\n",
       "      <th>Submitted via</th>\n",
       "      <th>Date sent to company</th>\n",
       "      <th>Company response to consumer</th>\n",
       "      <th>Timely response?</th>\n",
       "      <th>Consumer disputed?</th>\n",
       "      <th>Complaint ID</th>\n",
       "      <th>Year</th>\n",
       "      <th>Month</th>\n",
       "      <th>Day</th>\n",
       "    </tr>\n",
       "  </thead>\n",
       "  <tbody>\n",
       "    <tr>\n",
       "      <th>0</th>\n",
       "      <td>2015-10-14</td>\n",
       "      <td>Credit reporting</td>\n",
       "      <td>Incorrect information on credit report</td>\n",
       "      <td>Equifax</td>\n",
       "      <td>GA</td>\n",
       "      <td>30134</td>\n",
       "      <td>Web</td>\n",
       "      <td>2015-10-14</td>\n",
       "      <td>Closed with explanation</td>\n",
       "      <td>Yes</td>\n",
       "      <td>No</td>\n",
       "      <td>1605653</td>\n",
       "      <td>2015</td>\n",
       "      <td>10</td>\n",
       "      <td>14</td>\n",
       "    </tr>\n",
       "    <tr>\n",
       "      <th>1</th>\n",
       "      <td>2015-04-26</td>\n",
       "      <td>Bank account or service</td>\n",
       "      <td>Deposits and withdrawals</td>\n",
       "      <td>Wells Fargo &amp; Company</td>\n",
       "      <td>GA</td>\n",
       "      <td>319XX</td>\n",
       "      <td>Web</td>\n",
       "      <td>2015-04-26</td>\n",
       "      <td>Closed with explanation</td>\n",
       "      <td>Yes</td>\n",
       "      <td>Yes</td>\n",
       "      <td>1347613</td>\n",
       "      <td>2015</td>\n",
       "      <td>4</td>\n",
       "      <td>26</td>\n",
       "    </tr>\n",
       "    <tr>\n",
       "      <th>2</th>\n",
       "      <td>2013-12-20</td>\n",
       "      <td>Credit card</td>\n",
       "      <td>Other</td>\n",
       "      <td>Citibank</td>\n",
       "      <td>SC</td>\n",
       "      <td>29203</td>\n",
       "      <td>Phone</td>\n",
       "      <td>2014-01-03</td>\n",
       "      <td>Closed with non-monetary relief</td>\n",
       "      <td>Yes</td>\n",
       "      <td>No</td>\n",
       "      <td>640394</td>\n",
       "      <td>2013</td>\n",
       "      <td>12</td>\n",
       "      <td>20</td>\n",
       "    </tr>\n",
       "  </tbody>\n",
       "</table>\n",
       "</div>"
      ],
      "text/plain": [
       "  Date received                  Product  \\\n",
       "0    2015-10-14         Credit reporting   \n",
       "1    2015-04-26  Bank account or service   \n",
       "2    2013-12-20              Credit card   \n",
       "\n",
       "                                    Issue                Company State  \\\n",
       "0  Incorrect information on credit report                Equifax    GA   \n",
       "1                Deposits and withdrawals  Wells Fargo & Company    GA   \n",
       "2                                   Other               Citibank    SC   \n",
       "\n",
       "  ZIP code Submitted via Date sent to company  \\\n",
       "0    30134           Web           2015-10-14   \n",
       "1    319XX           Web           2015-04-26   \n",
       "2    29203         Phone           2014-01-03   \n",
       "\n",
       "      Company response to consumer Timely response? Consumer disputed?  \\\n",
       "0          Closed with explanation              Yes                 No   \n",
       "1          Closed with explanation              Yes                Yes   \n",
       "2  Closed with non-monetary relief              Yes                 No   \n",
       "\n",
       "   Complaint ID  Year  Month  Day  \n",
       "0       1605653  2015     10   14  \n",
       "1       1347613  2015      4   26  \n",
       "2        640394  2013     12   20  "
      ]
     },
     "execution_count": 16,
     "metadata": {},
     "output_type": "execute_result"
    }
   ],
   "source": [
    "cc_train_df.head(3)"
   ]
  },
  {
   "cell_type": "code",
   "execution_count": 17,
   "metadata": {
    "id": "1tZ5kgp5poqO"
   },
   "outputs": [],
   "source": [
    "cc_train_df[\"Date sent to company\"] = pd.to_datetime(cc_train_df[\"Date sent to company\"])\n",
    "cc_test_df[\"Date sent to company\"] = pd.to_datetime(cc_test_df[\"Date sent to company\"])\n",
    "cc_train_df[\"days_held\"] = (cc_train_df[\"Date sent to company\"] - cc_train_df[\"Date received\"])\n",
    "cc_test_df[\"days_held\"] = (cc_test_df[\"Date sent to company\"] - cc_train_df[\"Date received\"])"
   ]
  },
  {
   "cell_type": "markdown",
   "metadata": {
    "id": "NU-KOCtopoqO"
   },
   "source": [
    "Convert \"Days Held\" to Int(above column)"
   ]
  },
  {
   "cell_type": "code",
   "execution_count": 18,
   "metadata": {
    "id": "mYixr98bpoqP"
   },
   "outputs": [],
   "source": [
    "#converting days held to in\n",
    "cc_train_df[\"days_held\"] = cc_train_df[\"days_held\"].dt.days\n",
    "cc_test_df[\"days_held\"] = cc_test_df[\"days_held\"].dt.days"
   ]
  },
  {
   "cell_type": "markdown",
   "metadata": {
    "id": "0HQaa_05poqP"
   },
   "source": [
    "Drop \"Date Received\",\"Date Sent to Company\",\"ZIP Code\", \"Complaint ID\""
   ]
  },
  {
   "cell_type": "code",
   "execution_count": 19,
   "metadata": {},
   "outputs": [
    {
     "data": {
      "text/plain": [
       "Index(['Date received', 'Product', 'Issue', 'Company', 'State', 'ZIP code',\n",
       "       'Submitted via', 'Date sent to company', 'Company response to consumer',\n",
       "       'Timely response?', 'Consumer disputed?', 'Complaint ID', 'Year',\n",
       "       'Month', 'Day', 'days_held'],\n",
       "      dtype='object')"
      ]
     },
     "execution_count": 19,
     "metadata": {},
     "output_type": "execute_result"
    }
   ],
   "source": [
    "cc_train_df.columns"
   ]
  },
  {
   "cell_type": "code",
   "execution_count": 20,
   "metadata": {},
   "outputs": [
    {
     "data": {
      "text/plain": [
       "Index(['Date received', 'Product', 'Issue', 'Company', 'State', 'ZIP code',\n",
       "       'Submitted via', 'Date sent to company', 'Company response to consumer',\n",
       "       'Timely response?', 'Complaint ID', 'Year', 'Month', 'Day',\n",
       "       'days_held'],\n",
       "      dtype='object')"
      ]
     },
     "execution_count": 20,
     "metadata": {},
     "output_type": "execute_result"
    }
   ],
   "source": [
    "cc_test_df.columns"
   ]
  },
  {
   "cell_type": "code",
   "execution_count": 22,
   "metadata": {
    "id": "T9WmzyvmpoqQ"
   },
   "outputs": [
    {
     "data": {
      "text/plain": [
       "Index(['Product', 'Issue', 'Company', 'State', 'Submitted via',\n",
       "       'Company response to consumer', 'Timely response?', 'Year', 'Month',\n",
       "       'Day', 'days_held'],\n",
       "      dtype='object')"
      ]
     },
     "execution_count": 22,
     "metadata": {},
     "output_type": "execute_result"
    }
   ],
   "source": [
    "drop_column = [\"Date received\", \"Date sent to company\", \"ZIP code\", \"Complaint ID\"]\n",
    "\n",
    "\n",
    "train_df = cc_train_df.drop(drop_column, axis=1)\n",
    "test_df = cc_test_df.drop(drop_column, axis=1)\n",
    "test_df.columns"
   ]
  },
  {
   "cell_type": "markdown",
   "metadata": {
    "id": "fXrMeXGGpoqQ"
   },
   "source": [
    "Impute null values in \"State\" by Mode \n",
    "(find mode and replace nan value)"
   ]
  },
  {
   "cell_type": "code",
   "execution_count": 38,
   "metadata": {
    "id": "2E50Tq6qpoqQ"
   },
   "outputs": [],
   "source": [
    "train_df[\"State\"].fillna(train_df[\"State\"].mode()[0], inplace=True)\n",
    "test_df[\"State\"].fillna(test_df[\"State\"].mode()[0], inplace=True)"
   ]
  },
  {
   "cell_type": "markdown",
   "metadata": {
    "id": "TDDfIGddpoqR"
   },
   "source": [
    "Check Missing Values in the dataset"
   ]
  },
  {
   "cell_type": "code",
   "execution_count": 39,
   "metadata": {
    "id": "9lHuVu79poqR"
   },
   "outputs": [
    {
     "data": {
      "text/plain": [
       "Product                         0\n",
       "Issue                           0\n",
       "Company                         0\n",
       "State                           0\n",
       "Submitted via                   0\n",
       "Company response to consumer    0\n",
       "Timely response?                0\n",
       "Consumer disputed?              0\n",
       "Year                            0\n",
       "Month                           0\n",
       "Day                             0\n",
       "days_held                       0\n",
       "dtype: int64"
      ]
     },
     "execution_count": 39,
     "metadata": {},
     "output_type": "execute_result"
    }
   ],
   "source": [
    "train_df.isna().sum()"
   ]
  },
  {
   "cell_type": "code",
   "execution_count": 40,
   "metadata": {},
   "outputs": [
    {
     "data": {
      "text/plain": [
       "Product                         0\n",
       "Issue                           0\n",
       "Company                         0\n",
       "State                           0\n",
       "Submitted via                   0\n",
       "Company response to consumer    0\n",
       "Timely response?                0\n",
       "Year                            0\n",
       "Month                           0\n",
       "Day                             0\n",
       "days_held                       0\n",
       "dtype: int64"
      ]
     },
     "execution_count": 40,
     "metadata": {},
     "output_type": "execute_result"
    }
   ],
   "source": [
    "test_df.isna().sum()"
   ]
  },
  {
   "cell_type": "markdown",
   "metadata": {
    "id": "M0EPXTRWpoqR"
   },
   "source": [
    "Categorize Days into Weeks with the help of 'Days Received'"
   ]
  },
  {
   "cell_type": "code",
   "execution_count": 43,
   "metadata": {
    "id": "zr7y3qkCpoqS"
   },
   "outputs": [],
   "source": [
    "train_df[\"Week received\"] = train_df[\"Day\"].apply(lambda x: np.ceil(x / 7))\n",
    "test_df[\"Week received\"] = test_df[\"Day\"].apply(lambda x : np.ceil(x / 7))"
   ]
  },
  {
   "cell_type": "markdown",
   "metadata": {
    "id": "FUZBAfyopoqS"
   },
   "source": [
    "Drop \"Day_Received\" column"
   ]
  },
  {
   "cell_type": "code",
   "execution_count": 46,
   "metadata": {
    "id": "A5ka68OnpoqT"
   },
   "outputs": [],
   "source": [
    "train_df = train_df.drop(\"Day\", axis=1)\n",
    "test_df = test_df.drop(\"Day\", axis=1)"
   ]
  },
  {
   "cell_type": "markdown",
   "metadata": {
    "id": "tYdZ9SulpoqT"
   },
   "source": [
    "Print head of train and test dataset and observe"
   ]
  },
  {
   "cell_type": "code",
   "execution_count": 48,
   "metadata": {
    "id": "Njal7vDbpoqT"
   },
   "outputs": [
    {
     "data": {
      "text/html": [
       "<div>\n",
       "<style scoped>\n",
       "    .dataframe tbody tr th:only-of-type {\n",
       "        vertical-align: middle;\n",
       "    }\n",
       "\n",
       "    .dataframe tbody tr th {\n",
       "        vertical-align: top;\n",
       "    }\n",
       "\n",
       "    .dataframe thead th {\n",
       "        text-align: right;\n",
       "    }\n",
       "</style>\n",
       "<table border=\"1\" class=\"dataframe\">\n",
       "  <thead>\n",
       "    <tr style=\"text-align: right;\">\n",
       "      <th></th>\n",
       "      <th>Product</th>\n",
       "      <th>Issue</th>\n",
       "      <th>Company</th>\n",
       "      <th>State</th>\n",
       "      <th>Submitted via</th>\n",
       "      <th>Company response to consumer</th>\n",
       "      <th>Timely response?</th>\n",
       "      <th>Consumer disputed?</th>\n",
       "      <th>Year</th>\n",
       "      <th>Month</th>\n",
       "      <th>days_held</th>\n",
       "      <th>Week received</th>\n",
       "    </tr>\n",
       "  </thead>\n",
       "  <tbody>\n",
       "    <tr>\n",
       "      <th>0</th>\n",
       "      <td>Credit reporting</td>\n",
       "      <td>Incorrect information on credit report</td>\n",
       "      <td>Equifax</td>\n",
       "      <td>GA</td>\n",
       "      <td>Web</td>\n",
       "      <td>Closed with explanation</td>\n",
       "      <td>Yes</td>\n",
       "      <td>No</td>\n",
       "      <td>2015</td>\n",
       "      <td>10</td>\n",
       "      <td>0</td>\n",
       "      <td>2.0</td>\n",
       "    </tr>\n",
       "    <tr>\n",
       "      <th>1</th>\n",
       "      <td>Bank account or service</td>\n",
       "      <td>Deposits and withdrawals</td>\n",
       "      <td>Wells Fargo &amp; Company</td>\n",
       "      <td>GA</td>\n",
       "      <td>Web</td>\n",
       "      <td>Closed with explanation</td>\n",
       "      <td>Yes</td>\n",
       "      <td>Yes</td>\n",
       "      <td>2015</td>\n",
       "      <td>4</td>\n",
       "      <td>0</td>\n",
       "      <td>4.0</td>\n",
       "    </tr>\n",
       "    <tr>\n",
       "      <th>2</th>\n",
       "      <td>Credit card</td>\n",
       "      <td>Other</td>\n",
       "      <td>Citibank</td>\n",
       "      <td>SC</td>\n",
       "      <td>Phone</td>\n",
       "      <td>Closed with non-monetary relief</td>\n",
       "      <td>Yes</td>\n",
       "      <td>No</td>\n",
       "      <td>2013</td>\n",
       "      <td>12</td>\n",
       "      <td>14</td>\n",
       "      <td>3.0</td>\n",
       "    </tr>\n",
       "    <tr>\n",
       "      <th>3</th>\n",
       "      <td>Debt collection</td>\n",
       "      <td>Disclosure verification of debt</td>\n",
       "      <td>FAIR COLLECTIONS &amp; OUTSOURCING, INC.</td>\n",
       "      <td>OH</td>\n",
       "      <td>Referral</td>\n",
       "      <td>Closed with explanation</td>\n",
       "      <td>Yes</td>\n",
       "      <td>No</td>\n",
       "      <td>2016</td>\n",
       "      <td>3</td>\n",
       "      <td>1</td>\n",
       "      <td>1.0</td>\n",
       "    </tr>\n",
       "    <tr>\n",
       "      <th>4</th>\n",
       "      <td>Debt collection</td>\n",
       "      <td>Disclosure verification of debt</td>\n",
       "      <td>HCFS Health Care Financial Services, Inc.</td>\n",
       "      <td>CA</td>\n",
       "      <td>Web</td>\n",
       "      <td>Closed with explanation</td>\n",
       "      <td>Yes</td>\n",
       "      <td>Yes</td>\n",
       "      <td>2015</td>\n",
       "      <td>1</td>\n",
       "      <td>0</td>\n",
       "      <td>5.0</td>\n",
       "    </tr>\n",
       "  </tbody>\n",
       "</table>\n",
       "</div>"
      ],
      "text/plain": [
       "                   Product                                   Issue  \\\n",
       "0         Credit reporting  Incorrect information on credit report   \n",
       "1  Bank account or service                Deposits and withdrawals   \n",
       "2              Credit card                                   Other   \n",
       "3          Debt collection         Disclosure verification of debt   \n",
       "4          Debt collection         Disclosure verification of debt   \n",
       "\n",
       "                                     Company State Submitted via  \\\n",
       "0                                    Equifax    GA           Web   \n",
       "1                      Wells Fargo & Company    GA           Web   \n",
       "2                                   Citibank    SC         Phone   \n",
       "3       FAIR COLLECTIONS & OUTSOURCING, INC.    OH      Referral   \n",
       "4  HCFS Health Care Financial Services, Inc.    CA           Web   \n",
       "\n",
       "      Company response to consumer Timely response? Consumer disputed?  Year  \\\n",
       "0          Closed with explanation              Yes                 No  2015   \n",
       "1          Closed with explanation              Yes                Yes  2015   \n",
       "2  Closed with non-monetary relief              Yes                 No  2013   \n",
       "3          Closed with explanation              Yes                 No  2016   \n",
       "4          Closed with explanation              Yes                Yes  2015   \n",
       "\n",
       "   Month  days_held  Week received  \n",
       "0     10          0            2.0  \n",
       "1      4          0            4.0  \n",
       "2     12         14            3.0  \n",
       "3      3          1            1.0  \n",
       "4      1          0            5.0  "
      ]
     },
     "execution_count": 48,
     "metadata": {},
     "output_type": "execute_result"
    }
   ],
   "source": [
    "train_df.head(5)"
   ]
  },
  {
   "cell_type": "code",
   "execution_count": 49,
   "metadata": {},
   "outputs": [
    {
     "data": {
      "text/html": [
       "<div>\n",
       "<style scoped>\n",
       "    .dataframe tbody tr th:only-of-type {\n",
       "        vertical-align: middle;\n",
       "    }\n",
       "\n",
       "    .dataframe tbody tr th {\n",
       "        vertical-align: top;\n",
       "    }\n",
       "\n",
       "    .dataframe thead th {\n",
       "        text-align: right;\n",
       "    }\n",
       "</style>\n",
       "<table border=\"1\" class=\"dataframe\">\n",
       "  <thead>\n",
       "    <tr style=\"text-align: right;\">\n",
       "      <th></th>\n",
       "      <th>Product</th>\n",
       "      <th>Issue</th>\n",
       "      <th>Company</th>\n",
       "      <th>State</th>\n",
       "      <th>Submitted via</th>\n",
       "      <th>Company response to consumer</th>\n",
       "      <th>Timely response?</th>\n",
       "      <th>Year</th>\n",
       "      <th>Month</th>\n",
       "      <th>days_held</th>\n",
       "    </tr>\n",
       "  </thead>\n",
       "  <tbody>\n",
       "    <tr>\n",
       "      <th>0</th>\n",
       "      <td>Credit card</td>\n",
       "      <td>Customer service / Customer relations</td>\n",
       "      <td>Citibank</td>\n",
       "      <td>TX</td>\n",
       "      <td>Web</td>\n",
       "      <td>Closed with monetary relief</td>\n",
       "      <td>Yes</td>\n",
       "      <td>2015</td>\n",
       "      <td>1</td>\n",
       "      <td>-270</td>\n",
       "    </tr>\n",
       "    <tr>\n",
       "      <th>1</th>\n",
       "      <td>Consumer Loan</td>\n",
       "      <td>Payment to acct not credited</td>\n",
       "      <td>Larsen MacColl Partners II, L.P.</td>\n",
       "      <td>TX</td>\n",
       "      <td>Phone</td>\n",
       "      <td>Closed with explanation</td>\n",
       "      <td>Yes</td>\n",
       "      <td>2016</td>\n",
       "      <td>6</td>\n",
       "      <td>423</td>\n",
       "    </tr>\n",
       "    <tr>\n",
       "      <th>2</th>\n",
       "      <td>Credit card</td>\n",
       "      <td>Credit line increase/decrease</td>\n",
       "      <td>Capital One</td>\n",
       "      <td>NC</td>\n",
       "      <td>Web</td>\n",
       "      <td>Closed with explanation</td>\n",
       "      <td>Yes</td>\n",
       "      <td>2015</td>\n",
       "      <td>9</td>\n",
       "      <td>623</td>\n",
       "    </tr>\n",
       "    <tr>\n",
       "      <th>3</th>\n",
       "      <td>Consumer Loan</td>\n",
       "      <td>Problems when you are unable to pay</td>\n",
       "      <td>OneMain Financial Holdings, LLC</td>\n",
       "      <td>MO</td>\n",
       "      <td>Web</td>\n",
       "      <td>Closed with non-monetary relief</td>\n",
       "      <td>Yes</td>\n",
       "      <td>2016</td>\n",
       "      <td>5</td>\n",
       "      <td>78</td>\n",
       "    </tr>\n",
       "    <tr>\n",
       "      <th>4</th>\n",
       "      <td>Debt collection</td>\n",
       "      <td>Improper contact or sharing of info</td>\n",
       "      <td>GMA Investments, LLC</td>\n",
       "      <td>SC</td>\n",
       "      <td>Web</td>\n",
       "      <td>Closed with explanation</td>\n",
       "      <td>Yes</td>\n",
       "      <td>2016</td>\n",
       "      <td>7</td>\n",
       "      <td>524</td>\n",
       "    </tr>\n",
       "  </tbody>\n",
       "</table>\n",
       "</div>"
      ],
      "text/plain": [
       "           Product                                  Issue  \\\n",
       "0      Credit card  Customer service / Customer relations   \n",
       "1    Consumer Loan           Payment to acct not credited   \n",
       "2      Credit card          Credit line increase/decrease   \n",
       "3    Consumer Loan    Problems when you are unable to pay   \n",
       "4  Debt collection    Improper contact or sharing of info   \n",
       "\n",
       "                            Company State Submitted via  \\\n",
       "0                          Citibank    TX           Web   \n",
       "1  Larsen MacColl Partners II, L.P.    TX         Phone   \n",
       "2                       Capital One    NC           Web   \n",
       "3   OneMain Financial Holdings, LLC    MO           Web   \n",
       "4              GMA Investments, LLC    SC           Web   \n",
       "\n",
       "      Company response to consumer Timely response?  Year  Month  days_held  \n",
       "0      Closed with monetary relief              Yes  2015      1       -270  \n",
       "1          Closed with explanation              Yes  2016      6        423  \n",
       "2          Closed with explanation              Yes  2015      9        623  \n",
       "3  Closed with non-monetary relief              Yes  2016      5         78  \n",
       "4          Closed with explanation              Yes  2016      7        524  "
      ]
     },
     "execution_count": 49,
     "metadata": {},
     "output_type": "execute_result"
    }
   ],
   "source": [
    "test_df.head(5)"
   ]
  },
  {
   "cell_type": "markdown",
   "metadata": {
    "id": "A8tqx2qCpoqT"
   },
   "source": [
    "Store data of the disputed consumer in the new data frame as \"disputed_cons\""
   ]
  },
  {
   "cell_type": "code",
   "execution_count": 57,
   "metadata": {
    "id": "LIsh5bhipoqU"
   },
   "outputs": [
    {
     "data": {
      "text/html": [
       "<div>\n",
       "<style scoped>\n",
       "    .dataframe tbody tr th:only-of-type {\n",
       "        vertical-align: middle;\n",
       "    }\n",
       "\n",
       "    .dataframe tbody tr th {\n",
       "        vertical-align: top;\n",
       "    }\n",
       "\n",
       "    .dataframe thead th {\n",
       "        text-align: right;\n",
       "    }\n",
       "</style>\n",
       "<table border=\"1\" class=\"dataframe\">\n",
       "  <thead>\n",
       "    <tr style=\"text-align: right;\">\n",
       "      <th></th>\n",
       "      <th>Consumer disputed?</th>\n",
       "    </tr>\n",
       "  </thead>\n",
       "  <tbody>\n",
       "    <tr>\n",
       "      <th>0</th>\n",
       "      <td>No</td>\n",
       "    </tr>\n",
       "    <tr>\n",
       "      <th>1</th>\n",
       "      <td>Yes</td>\n",
       "    </tr>\n",
       "    <tr>\n",
       "      <th>2</th>\n",
       "      <td>No</td>\n",
       "    </tr>\n",
       "    <tr>\n",
       "      <th>3</th>\n",
       "      <td>No</td>\n",
       "    </tr>\n",
       "    <tr>\n",
       "      <th>4</th>\n",
       "      <td>Yes</td>\n",
       "    </tr>\n",
       "    <tr>\n",
       "      <th>...</th>\n",
       "      <td>...</td>\n",
       "    </tr>\n",
       "    <tr>\n",
       "      <th>358805</th>\n",
       "      <td>No</td>\n",
       "    </tr>\n",
       "    <tr>\n",
       "      <th>358806</th>\n",
       "      <td>No</td>\n",
       "    </tr>\n",
       "    <tr>\n",
       "      <th>358807</th>\n",
       "      <td>Yes</td>\n",
       "    </tr>\n",
       "    <tr>\n",
       "      <th>358808</th>\n",
       "      <td>No</td>\n",
       "    </tr>\n",
       "    <tr>\n",
       "      <th>358809</th>\n",
       "      <td>No</td>\n",
       "    </tr>\n",
       "  </tbody>\n",
       "</table>\n",
       "<p>358810 rows × 1 columns</p>\n",
       "</div>"
      ],
      "text/plain": [
       "       Consumer disputed?\n",
       "0                      No\n",
       "1                     Yes\n",
       "2                      No\n",
       "3                      No\n",
       "4                     Yes\n",
       "...                   ...\n",
       "358805                 No\n",
       "358806                 No\n",
       "358807                Yes\n",
       "358808                 No\n",
       "358809                 No\n",
       "\n",
       "[358810 rows x 1 columns]"
      ]
     },
     "execution_count": 57,
     "metadata": {},
     "output_type": "execute_result"
    }
   ],
   "source": [
    "disputed_cons = pd.DataFrame(train_df[\"Consumer disputed?\"])\n",
    "disputed_cons"
   ]
  },
  {
   "cell_type": "markdown",
   "metadata": {
    "id": "mtGG1fslpoqU"
   },
   "source": [
    "Plot bar graph for the total no of disputes with the help of seaborn"
   ]
  },
  {
   "cell_type": "code",
   "execution_count": 112,
   "metadata": {},
   "outputs": [
    {
     "data": {
      "text/html": [
       "<div>\n",
       "<style scoped>\n",
       "    .dataframe tbody tr th:only-of-type {\n",
       "        vertical-align: middle;\n",
       "    }\n",
       "\n",
       "    .dataframe tbody tr th {\n",
       "        vertical-align: top;\n",
       "    }\n",
       "\n",
       "    .dataframe thead th {\n",
       "        text-align: right;\n",
       "    }\n",
       "</style>\n",
       "<table border=\"1\" class=\"dataframe\">\n",
       "  <thead>\n",
       "    <tr style=\"text-align: right;\">\n",
       "      <th></th>\n",
       "      <th>count</th>\n",
       "    </tr>\n",
       "    <tr>\n",
       "      <th>Consumer disputed?</th>\n",
       "      <th></th>\n",
       "    </tr>\n",
       "  </thead>\n",
       "  <tbody>\n",
       "    <tr>\n",
       "      <th>No</th>\n",
       "      <td>282638</td>\n",
       "    </tr>\n",
       "    <tr>\n",
       "      <th>Yes</th>\n",
       "      <td>76172</td>\n",
       "    </tr>\n",
       "  </tbody>\n",
       "</table>\n",
       "</div>"
      ],
      "text/plain": [
       "                     count\n",
       "Consumer disputed?        \n",
       "No                  282638\n",
       "Yes                  76172"
      ]
     },
     "execution_count": 112,
     "metadata": {},
     "output_type": "execute_result"
    }
   ],
   "source": [
    "count_df = pd.DataFrame(disputed_cons.value_counts())\n",
    "count_df.reset_index()\n",
    "count_df"
   ]
  },
  {
   "cell_type": "code",
   "execution_count": 121,
   "metadata": {},
   "outputs": [
    {
     "data": {
      "text/plain": [
       "<Axes: xlabel='Consumer disputed?', ylabel='count'>"
      ]
     },
     "execution_count": 121,
     "metadata": {},
     "output_type": "execute_result"
    },
    {
     "data": {
      "image/png": "[encoded data removed]",
      "text/plain": [
       "<Figure size 640x480 with 1 Axes>"
      ]
     },
     "metadata": {},
     "output_type": "display_data"
    }
   ],
   "source": [
    "sns.countplot(data=train_df, x=\"Consumer disputed?\")"
   ]
  },
  {
   "cell_type": "markdown",
   "metadata": {
    "id": "NCZyWAkUpoqW"
   },
   "source": [
    "Plot bar graph for the total no of disputes products-wise with help of seaborn"
   ]
  },
  {
   "cell_type": "code",
   "execution_count": 123,
   "metadata": {
    "id": "CRaMA8jVpoqX"
   },
   "outputs": [
    {
     "data": {
      "text/plain": [
       "<Axes: xlabel='Consumer disputed?', ylabel='count'>"
      ]
     },
     "execution_count": 123,
     "metadata": {},
     "output_type": "execute_result"
    },
    {
     "data": {
      "image/png": "[encoded data removed]",
      "text/plain": [
       "<Figure size 640x480 with 1 Axes>"
      ]
     },
     "metadata": {},
     "output_type": "display_data"
    }
   ],
   "source": [
    "sns.countplot(x=\"Consumer disputed?\", hue=\"Product\", data=train_df)"
   ]
  },
  {
   "cell_type": "markdown",
   "metadata": {
    "id": "L0U3hAu4poqY"
   },
   "source": [
    "Plot bar graph for the total no of disputes with Top Issues by Highest Disputes , with help of seaborn"
   ]
  },
  {
   "cell_type": "code",
   "execution_count": null,
   "metadata": {
    "id": "hx_k7HkYpoqY"
   },
   "outputs": [],
   "source": []
  },
  {
   "cell_type": "markdown",
   "metadata": {
    "id": "Lnfp_e9ZpoqY"
   },
   "source": [
    "Plot bar graph for the total no of disputes by State with Maximum Disputes"
   ]
  },
  {
   "cell_type": "code",
   "execution_count": null,
   "metadata": {
    "id": "9YieTWCtpoqZ"
   },
   "outputs": [],
   "source": []
  },
  {
   "cell_type": "markdown",
   "metadata": {
    "id": "GzYlsiEFpoqZ"
   },
   "source": [
    "Plot bar graph for the total no of disputes by Submitted Via diffrent source "
   ]
  },
  {
   "cell_type": "code",
   "execution_count": null,
   "metadata": {
    "id": "ShPK2OoepoqZ"
   },
   "outputs": [],
   "source": []
  },
  {
   "cell_type": "markdown",
   "metadata": {
    "id": "rl_JZPCipoqa"
   },
   "source": [
    "Plot bar graph for the total no of disputes wherevCompany's Response to the Complaints"
   ]
  },
  {
   "cell_type": "code",
   "execution_count": null,
   "metadata": {
    "id": "2XTLjfbtpoqa"
   },
   "outputs": [],
   "source": []
  },
  {
   "cell_type": "markdown",
   "metadata": {
    "id": "pGvHtAP2poqa"
   },
   "source": [
    "Plot bar graph for the total no of disputes where Company's Response Leading to Disputes"
   ]
  },
  {
   "cell_type": "code",
   "execution_count": null,
   "metadata": {
    "id": "4MdIaJKJpoqa"
   },
   "outputs": [],
   "source": []
  },
  {
   "cell_type": "markdown",
   "metadata": {
    "id": "myL-cp2Dpoqb"
   },
   "source": [
    "Plot bar graph for the total no of disputes Whether there are Disputes Instead of Timely Response"
   ]
  },
  {
   "cell_type": "code",
   "execution_count": null,
   "metadata": {
    "id": "EyPJWgZUpoqb"
   },
   "outputs": [],
   "source": []
  },
  {
   "cell_type": "markdown",
   "metadata": {
    "id": "t91R-deppoqb"
   },
   "source": [
    "Plot bar graph for the total no of disputes over Year Wise Complaints"
   ]
  },
  {
   "cell_type": "code",
   "execution_count": null,
   "metadata": {
    "id": "vGBscEOJpoqb"
   },
   "outputs": [],
   "source": []
  },
  {
   "cell_type": "markdown",
   "metadata": {
    "id": "xT4ZwSo0poqc"
   },
   "source": [
    "Plot bar graph for the total no of disputes over Year Wise Disputes"
   ]
  },
  {
   "cell_type": "code",
   "execution_count": null,
   "metadata": {
    "id": "ADdy8Zavpoqc"
   },
   "outputs": [],
   "source": []
  },
  {
   "cell_type": "markdown",
   "metadata": {
    "id": "5pCBYQhTpoqc"
   },
   "source": [
    "Plot  bar graph for the top companies with highest complaints"
   ]
  },
  {
   "cell_type": "code",
   "execution_count": null,
   "metadata": {
    "id": "0ovADVRSpoqc"
   },
   "outputs": [],
   "source": []
  },
  {
   "cell_type": "markdown",
   "metadata": {
    "id": "d_VB1_2Qpoqc"
   },
   "source": [
    "\"Days Held\" Column Analysis(describe)"
   ]
  },
  {
   "cell_type": "code",
   "execution_count": null,
   "metadata": {
    "id": "fan0xohapoqd"
   },
   "outputs": [],
   "source": []
  },
  {
   "cell_type": "markdown",
   "metadata": {
    "id": "vlLBckNcpoqd"
   },
   "source": [
    "Convert Negative Days Held to Zero(it is the time taken by authority can't be negative)"
   ]
  },
  {
   "cell_type": "code",
   "execution_count": null,
   "metadata": {
    "id": "qLPLLq6Ppoqd"
   },
   "outputs": [],
   "source": []
  },
  {
   "cell_type": "markdown",
   "metadata": {
    "id": "Phr6eNn6poqd"
   },
   "source": [
    "Drop Days Held with Negative Values"
   ]
  },
  {
   "cell_type": "code",
   "execution_count": null,
   "metadata": {
    "id": "jkXWSNrxpoqd"
   },
   "outputs": [],
   "source": []
  },
  {
   "cell_type": "markdown",
   "metadata": {
    "id": "oPGVV2cypoqe"
   },
   "source": [
    "Text pre-processing\n",
    "(It will be cover in upcoming calsses)"
   ]
  },
  {
   "cell_type": "code",
   "execution_count": null,
   "metadata": {
    "id": "wUs9mtE-poqe"
   },
   "outputs": [],
   "source": [
    "relevant_text_train = df_train['Issue']\n",
    "relevant_text_test = df_test['Issue']\n",
    "tokenized_data_train = relevant_text_train.apply(lambda x: wordpunct_tokenize(x.lower()))\n",
    "tokenized_data_test = relevant_text_test.apply(lambda x: wordpunct_tokenize(x.lower()))\n",
    "def remove_punctuation(text):\n",
    "    no_punctuation = []\n",
    "    for w in text:\n",
    "        if w not in string.punctuation:\n",
    "            no_punctuation.append(w)\n",
    "    return no_punctuation\n",
    "no_punctuation_data_train = tokenized_data_train.apply(lambda x: remove_punctuation(x))\n",
    "no_punctuation_data_test = tokenized_data_test.apply(lambda x: remove_punctuation(x))\n",
    "stop_words = stopwords.words('english')\n",
    "filtered_sentence_train = [w for w in no_punctuation_data_train if not w in stop_words]\n",
    "filtered_sentence_train = pd.Series(filtered_sentence_train)\n",
    "filtered_sentence_test = [w for w in no_punctuation_data_test if not w in stop_words]\n",
    "filtered_sentence_test = pd.Series(filtered_sentence_test)\n",
    "def lemmatize_text(text):\n",
    "    lem_text = [WordNetLemmatizer().lemmatize(w,pos = 'v') for w in text]\n",
    "    return lem_text\n",
    "lemmatized_data_train = filtered_sentence_train.apply(lambda x:lemmatize_text(x))\n",
    "lemmatized_data_test = filtered_sentence_test.apply(lambda x:lemmatize_text(x))\n",
    "def stem_text(text):\n",
    "    stem_text = [PorterStemmer().stem(w) for w in text]\n",
    "    return stem_text\n",
    "stemmed_data_train = lemmatized_data_train.apply(lambda x:stem_text(x))\n",
    "stemmed_data_test = lemmatized_data_test.apply(lambda x:stem_text(x))\n",
    "def word_to_sentence(text):\n",
    "    text_sentence = \" \".join(text)\n",
    "    return text_sentence\n",
    "clean_data_train = stemmed_data_train.apply(lambda x:word_to_sentence(x))\n",
    "clean_data_test = stemmed_data_test.apply(lambda x:word_to_sentence(x))"
   ]
  },
  {
   "cell_type": "code",
   "execution_count": null,
   "metadata": {
    "id": "WFlUCeGxpoqf"
   },
   "outputs": [],
   "source": [
    "df_train['Issues_cleaned'] = clean_data_train\n",
    "df_test['Issues_cleaned'] = clean_data_test\n",
    "df_train = df_train.drop('Issue', axis = 1)\n",
    "df_test = df_test.drop('Issue', axis = 1)"
   ]
  },
  {
   "cell_type": "markdown",
   "metadata": {
    "id": "7h1ZLZwSpoqg"
   },
   "source": [
    "Drop Unnecessary Columns for the Model Building<br>\n",
    "like:'Company', 'State', 'Year_Received', 'Days_held'"
   ]
  },
  {
   "cell_type": "code",
   "execution_count": null,
   "metadata": {
    "id": "JAhztPQ9poqg"
   },
   "outputs": [],
   "source": []
  },
  {
   "cell_type": "markdown",
   "metadata": {
    "id": "MbQVqtzqpoqg"
   },
   "source": [
    "Change Consumer Disputed Column to 0 and 1(yes to 1, and no to 0)"
   ]
  },
  {
   "cell_type": "code",
   "execution_count": null,
   "metadata": {
    "id": "rYaesKiVpoqh"
   },
   "outputs": [],
   "source": []
  },
  {
   "cell_type": "markdown",
   "metadata": {
    "id": "Cf3IZk9Upoqh"
   },
   "source": [
    "Create Dummy Variables for catagorical features \n",
    "like: 'Product', 'Submitted via', 'Company response to consumer', 'Timely response?'"
   ]
  },
  {
   "cell_type": "code",
   "execution_count": null,
   "metadata": {
    "id": "aZR2mdiIpoqh"
   },
   "outputs": [],
   "source": []
  },
  {
   "cell_type": "markdown",
   "metadata": {
    "id": "t8hd8_Tvpoqh"
   },
   "source": [
    "Concate Dummy Variables and Drop the Original Columns"
   ]
  },
  {
   "cell_type": "code",
   "execution_count": null,
   "metadata": {
    "id": "3aU54mOOpoqi"
   },
   "outputs": [],
   "source": []
  },
  {
   "cell_type": "markdown",
   "metadata": {
    "id": "q49q-yVxpoqi"
   },
   "source": [
    "Calculating TF-IDF"
   ]
  },
  {
   "cell_type": "code",
   "execution_count": null,
   "metadata": {
    "id": "xsuxLlykpoqi"
   },
   "outputs": [],
   "source": [
    "tf = TfidfVectorizer()\n",
    "issues_cleaned_train = tf.fit_transform(df_train['Issues_cleaned']).toarray()\n",
    "issues_cleaned_test = tf.fit_transform(df_test['Issues_cleaned']).toarray()\n",
    "tf_columns_train = []\n",
    "tf_columns_test = []\n",
    "for i in range(issues_cleaned_train.shape[1]):\n",
    "    tf_columns_train.append('Feature' + str(i+1))\n",
    "for i in range(issues_cleaned_test.shape[1]):\n",
    "    tf_columns_test.append('Feature' + str(i+1))\n",
    "issues_train = pd.DataFrame(issues_cleaned_train, columns = tf_columns_train)\n",
    "issues_test = pd.DataFrame(issues_cleaned_test, columns = tf_columns_test)\n",
    "weights = pd.DataFrame(tf.idf_, index = tf.get_feature_names(), columns = ['Idf_weights']).sort_values(by = 'Idf_weights', ascending = False)\n",
    "weights.head()"
   ]
  },
  {
   "cell_type": "markdown",
   "metadata": {
    "id": "rxPhTO_Qpoqi"
   },
   "source": [
    "Replacing Issues_cleaned by Vectorized Issues"
   ]
  },
  {
   "cell_type": "code",
   "execution_count": null,
   "metadata": {
    "id": "ScmPUijrpoqi"
   },
   "outputs": [],
   "source": [
    "df_train = df_train.drop('Issues_cleaned', axis = 1)\n",
    "df_test = df_test.drop('Issues_cleaned', axis = 1)\n",
    "df_train = pd.concat([df_train, issues_train], axis = 1)\n",
    "df_test = pd.concat([df_test, issues_test], axis = 1)\n",
    "Feature168 = [0] * 119606\n",
    "df_test['Feature168'] = Feature168"
   ]
  },
  {
   "cell_type": "markdown",
   "metadata": {
    "id": "EwK9D-o-poqj"
   },
   "source": [
    "observe train and test datasets"
   ]
  },
  {
   "cell_type": "code",
   "execution_count": null,
   "metadata": {
    "id": "OlTcTkPopoqj"
   },
   "outputs": [],
   "source": [
    "# df_train.head()\n",
    "# df_test.head()"
   ]
  },
  {
   "cell_type": "markdown",
   "metadata": {
    "id": "7xGU-cPapoqj"
   },
   "source": [
    "Observe Shape of new Train and Test Datasets"
   ]
  },
  {
   "cell_type": "code",
   "execution_count": null,
   "metadata": {
    "id": "79J9Tqjzpoqj"
   },
   "outputs": [],
   "source": []
  },
  {
   "cell_type": "markdown",
   "metadata": {
    "id": "P1IKPOYzpoqk"
   },
   "source": [
    "Scaling the Data Sets (note:discard dependent variable before doing standardization)"
   ]
  },
  {
   "cell_type": "code",
   "execution_count": null,
   "metadata": {
    "id": "PoxQshrppoqk"
   },
   "outputs": [],
   "source": []
  },
  {
   "cell_type": "markdown",
   "metadata": {
    "id": "10Pj03fYpoqk"
   },
   "source": [
    "Do feature selection with help of PCA"
   ]
  },
  {
   "cell_type": "code",
   "execution_count": null,
   "metadata": {
    "id": "I7ULlKu7poqk"
   },
   "outputs": [],
   "source": []
  },
  {
   "cell_type": "markdown",
   "metadata": {
    "id": "Su_M3P3npoqk"
   },
   "source": [
    "Select top features which are covering 80% of the information \n",
    "(n=53),\n",
    "<br>store this data into new dataframe,"
   ]
  },
  {
   "cell_type": "code",
   "execution_count": null,
   "metadata": {
    "id": "2_FVX5N6poql"
   },
   "outputs": [],
   "source": []
  },
  {
   "cell_type": "markdown",
   "metadata": {
    "id": "xfPdNUxBpoql"
   },
   "source": [
    "Split the Data Sets Into X and Y by dependent and independent variables (data selected by PCA)\n"
   ]
  },
  {
   "cell_type": "code",
   "execution_count": null,
   "metadata": {
    "id": "ktXK9RIOpoqm"
   },
   "outputs": [],
   "source": []
  },
  {
   "cell_type": "markdown",
   "metadata": {
    "id": "4liyt_jZpoqm"
   },
   "source": [
    "Split data into Train and Test datasets\n",
    "(for test data use test excel file data)"
   ]
  },
  {
   "cell_type": "code",
   "execution_count": null,
   "metadata": {
    "id": "-ZmGXmwjpoqn"
   },
   "outputs": [],
   "source": []
  },
  {
   "cell_type": "markdown",
   "metadata": {
    "id": "hCl_eDoMpoqn"
   },
   "source": [
    "Shapes of the datasets"
   ]
  },
  {
   "cell_type": "code",
   "execution_count": null,
   "metadata": {
    "id": "JMK5Jk7opoqo"
   },
   "outputs": [],
   "source": [
    "X_train.shape, X_val.shape, y_train.shape, y_val.shape, X_test.shape"
   ]
  },
  {
   "cell_type": "markdown",
   "metadata": {
    "id": "L6d3W9nbpoqp"
   },
   "source": [
    "**Model building**\n",
    "Build given models and mesure their test and validation accuracy \n",
    "build given models:\n",
    "1. LogisticRegression\n",
    "2. DecisionTreeClassifier\n",
    "3. RandomForestClassifier\n",
    "4. AdaBoostClassifier\n",
    "5. GradientBoostingClassifier\n",
    "6. KNeighborsClassifier\n",
    "7. XGBClassifier"
   ]
  },
  {
   "cell_type": "code",
   "execution_count": null,
   "metadata": {
    "id": "WXgaZSqlpoqq"
   },
   "outputs": [],
   "source": []
  },
  {
   "cell_type": "markdown",
   "metadata": {
    "id": "NBfwkKjwpoqr"
   },
   "source": [
    "Final Model and Prediction for test data file"
   ]
  },
  {
   "cell_type": "code",
   "execution_count": null,
   "metadata": {
    "id": "J1mL-GJ2poqr"
   },
   "outputs": [],
   "source": []
  },
  {
   "cell_type": "markdown",
   "metadata": {
    "id": "QEMqjpS5poqr"
   },
   "source": [
    "Export Predictions to CSV"
   ]
  },
  {
   "cell_type": "code",
   "execution_count": null,
   "metadata": {
    "id": "MKDCpggppoqr"
   },
   "outputs": [],
   "source": []
  },
  {
   "cell_type": "code",
   "execution_count": null,
   "metadata": {
    "id": "UtsmRxQEpoqs"
   },
   "outputs": [],
   "source": []
  }
 ],
 "metadata": {
  "colab": {
   "collapsed_sections": [],
   "name": "consumer complaint resolution question file.ipynb",
   "provenance": []
  },
  "kernelspec": {
   "display_name": "Python 3 (ipykernel)",
   "language": "python",
   "name": "python3"
  },
  "language_info": {
   "codemirror_mode": {
    "name": "ipython",
    "version": 3
   },
   "file_extension": ".py",
   "mimetype": "text/x-python",
   "name": "python",
   "nbconvert_exporter": "python",
   "pygments_lexer": "ipython3",
   "version": "3.11.5"
  }
 },
 "nbformat": 4,
 "nbformat_minor": 4
}
