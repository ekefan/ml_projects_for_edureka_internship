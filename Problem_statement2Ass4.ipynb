{
 "cells": [
  {
   "cell_type": "markdown",
   "id": "ec34a991-6c5d-48d2-bc8d-55f9ac02d614",
   "metadata": {},
   "source": [
    "## <span style=\"color:lightblue\"> **Problem Statement 2:** </span>\n",
    "I am provided with the california housing dataset. Based on the given parameters of a house, predict its price.\n",
    "\n",
    "**Dataset Description:**\n",
    "\n",
    "The dataset contains nine features:\n",
    "- Longitude: A measure of how far west a house is; a higher value is farther west\n",
    "- Latitude: A measure of how far north a house is; a higher value is farther north\n",
    "- hosingMedianAge: Meduan age of a house within a block; a lower number is a newser building\n",
    "- total rooms: Total number of rooms withina block\n",
    "- total bedrooms: Total number of bedrooms within a block\n",
    "- populations: Total number of people residing within a block\n",
    "- households: Total number of households, a group of people residing within a home unit, for a block\n",
    "- median income: Median income for households within a block of houses (measured in tens of thousands of US Dollars)\n",
    "- median house value: Median house value for households within a block (measured in US Dollars)\n",
    "\n",
    "I'm writing a python code to perform the following tasks mentioned:\n",
    "1. Load the datam check its shape and check for null values\n",
    "2. Split the datset for training and testing - 1000- instances for testing\n",
    "3. Train the model using sklearn (Apply linear regression to train a model for prediction)\n",
    "4. Predict the prices on test data and evaluate the model by r2 score and mean absolute error\n",
    "5. Find coefficient and intercept using the trained model"
   ]
  },
  {
   "cell_type": "code",
   "execution_count": 2,
   "id": "26e13499-69d1-48df-902e-d0dda12e0655",
   "metadata": {},
   "outputs": [],
   "source": [
    "# Importing useful libraries\n",
    "\n",
    "#dataFrame manipulation and visualiztion\n",
    "import pandas as pd\n",
    "import numpy as np\n",
    "import matplotlib.pyplot as plt\n",
    "import seaborn as sns\n",
    "\n",
    "pd.set_option('Display.max_columns', None)\n",
    "pd.set_option('Display.max_rows', None)\n",
    "\n",
    "#Needed libraries\n",
    "import datetime\n",
    "import math\n"
   ]
  },
  {
   "cell_type": "code",
   "execution_count": 3,
   "id": "7d08af50-36e3-48a4-9ea7-d27f43c2f60b",
   "metadata": {},
   "outputs": [],
   "source": [
    "housing_df = pd.read_csv(\"./../Assignment_files/california_housing_train_ass4.csv\")"
   ]
  },
  {
   "cell_type": "code",
   "execution_count": null,
   "id": "2beef48b-c58f-46e2-b1c7-51fd976b1aae",
   "metadata": {},
   "outputs": [],
   "source": []
  }
 ],
 "metadata": {
  "kernelspec": {
   "display_name": "Python 3 (ipykernel)",
   "language": "python",
   "name": "python3"
  },
  "language_info": {
   "codemirror_mode": {
    "name": "ipython",
    "version": 3
   },
   "file_extension": ".py",
   "mimetype": "text/x-python",
   "name": "python",
   "nbconvert_exporter": "python",
   "pygments_lexer": "ipython3",
   "version": "3.11.5"
  }
 },
 "nbformat": 4,
 "nbformat_minor": 5
}
