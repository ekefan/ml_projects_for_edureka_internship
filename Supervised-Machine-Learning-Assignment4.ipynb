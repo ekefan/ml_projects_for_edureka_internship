{
 "cells": [
  {
   "cell_type": "markdown",
   "id": "ab34cde0-fecb-47cf-9bd1-6e0af83b0abd",
   "metadata": {},
   "source": [
    "# <span style=\"color:lightblue\"> DATA SCIENCE AND MACHINE LEARNING INTERNSHIP PROGRAM </span>"
   ]
  },
  {
   "cell_type": "markdown",
   "id": "78baba2a-ada0-4313-a2b0-c57e53dab413",
   "metadata": {},
   "source": [
    "<h2><center><u>Assignment_4</u></center><h2>"
   ]
  },
  {
   "cell_type": "code",
   "execution_count": 1,
   "id": "8066abd0-ea62-46bb-9cb6-90c01415eeaf",
   "metadata": {},
   "outputs": [],
   "source": [
    "# Importing useful libraries\n",
    "\n",
    "#dataFrame manipulation and visualiztion\n",
    "import pandas as pd\n",
    "import numpy as np\n",
    "import matplotlib.pyplot as plt\n",
    "import seaborn as sns\n",
    "\n",
    "pd.set_option('Display.max_columns', None)\n",
    "pd.set_option('Display.max_rows', None)\n",
    "\n",
    "#Needed libraries\n",
    "import datetime\n",
    "import math\n",
    "\n",
    "#Algorithms and scikit learn libraries\n",
    "from sklearn.preprocessing import normalize\n",
    "from sklearn.model_selection import train_test_split\n",
    "from sklearn.linear_model import LinearRegression\n",
    "from sklearn.metrics import mean_absolute_error, mean_squared_error, r2_score"
   ]
  },
  {
   "cell_type": "markdown",
   "id": "7a55c557-cdd4-4405-bdf3-0dfe21ee376b",
   "metadata": {},
   "source": [
    "## <span style=\"color:lightblue\"> **Problem Statement 1:** </span>\n",
    "The data (sample) were collected in São Paulo - Brazil, in a university, where there are some parties with groups of students from 18 to 28 years of age (average). The dataset used for this activity has 7 attributes, being a Target, with a period of one year. You have to predict the quantity of beer consumption based on the features that contain climate conditions.\n",
    "\n",
    "**Dataset Description**\n",
    "- Data: date of the record\n",
    "- Temperatura Media (C): Average temperature of the day in celsius\n",
    "- Temperatura Minima (C): Minimum temperature of the day in celsius\n",
    "- Temperatura Maxima (C): Maximum temperature of the day in celsius\n",
    "- Precipitacao (mm): Percipitation in mm\n",
    "- Final de Semana: If the day is the weekend or not\n",
    "- Consumo de cerveja (litros): Beer consumption in liters\n",
    "\n",
    "I would be writing python code to perform the following tasks mentioned:\n",
    "1. Load the dataset, check its shape\n",
    "2. Rectify the data of the first four columns\n",
    "   **Hint:** Check columns 'Temperatura Media(C)', 'Temperatura Minima (C)', 'Temperatura Maxima (C)' and 'Precipitacao'<br>\n",
    "   Fix the following errors present in these features\n",
    "3. Create new features using the 'Data' feature and the make 'Data' column as index<br>\n",
    "    **Hint:** Create a new feature 'Month' from the dates, consisting of the month of the year.<br>\n",
    "    Create a new feature 'Day' from the dates, consisting of the day of the week.\n",
    "    Set values from the 'Data' column as indexes. Use code snippet:\n",
    "    `df1.set_index('Data', inplace=True)`\n",
    "4. Handle null and duplicate values\n",
    "5. Check the data type of the features and convert them to the appropriate data type\n",
    "6. Analyse features with outlier values\n",
    "7. Plot and analyze the correlation\n",
    "8. Split the datast for training and testing\n",
    "9. Train a linear regression model and print the intercept and coefficients\n",
    "10. Evaluate the model using the R2 score, mean absolute error and root mean squared error\n"
   ]
  },
  {
   "cell_type": "markdown",
   "id": "e48fe781-0323-45c5-a0fe-ab0dd165fefb",
   "metadata": {},
   "source": [
    "#### Beer_df refers to the dataframe for the Consumo_cervea data"
   ]
  },
  {
   "cell_type": "code",
   "execution_count": 2,
   "id": "44992787-b432-428b-a0a8-5154b225f209",
   "metadata": {},
   "outputs": [
    {
     "data": {
      "text/plain": [
       "(941, 7)"
      ]
     },
     "execution_count": 2,
     "metadata": {},
     "output_type": "execute_result"
    }
   ],
   "source": [
    "beer_df = pd.read_csv(\"./../Assignment_files/Consumo_cerveja_ass4.csv\")\n",
    "beer_df.shape"
   ]
  },
  {
   "cell_type": "markdown",
   "id": "a54da581-c676-4660-a9d2-715c20d43998",
   "metadata": {},
   "source": [
    "#### creating a date column from the data column of dtype datetime so I can access the dates"
   ]
  },
  {
   "cell_type": "code",
   "execution_count": 3,
   "id": "7602cccf-72de-4319-8b05-c866bc196d4c",
   "metadata": {},
   "outputs": [
    {
     "data": {
      "text/html": [
       "<div>\n",
       "<style scoped>\n",
       "    .dataframe tbody tr th:only-of-type {\n",
       "        vertical-align: middle;\n",
       "    }\n",
       "\n",
       "    .dataframe tbody tr th {\n",
       "        vertical-align: top;\n",
       "    }\n",
       "\n",
       "    .dataframe thead th {\n",
       "        text-align: right;\n",
       "    }\n",
       "</style>\n",
       "<table border=\"1\" class=\"dataframe\">\n",
       "  <thead>\n",
       "    <tr style=\"text-align: right;\">\n",
       "      <th></th>\n",
       "      <th>Data</th>\n",
       "      <th>Temperatura Media (C)</th>\n",
       "      <th>Temperatura Minima (C)</th>\n",
       "      <th>Temperatura Maxima (C)</th>\n",
       "      <th>Precipitacao (mm)</th>\n",
       "      <th>Final de Semana</th>\n",
       "      <th>Consumo de cerveja (litros)</th>\n",
       "    </tr>\n",
       "  </thead>\n",
       "  <tbody>\n",
       "    <tr>\n",
       "      <th>0</th>\n",
       "      <td>2015-01-01</td>\n",
       "      <td>27,3</td>\n",
       "      <td>23,9</td>\n",
       "      <td>32,5</td>\n",
       "      <td>0</td>\n",
       "      <td>0.0</td>\n",
       "      <td>25.461</td>\n",
       "    </tr>\n",
       "    <tr>\n",
       "      <th>1</th>\n",
       "      <td>2015-01-02</td>\n",
       "      <td>27,02</td>\n",
       "      <td>24,5</td>\n",
       "      <td>33,5</td>\n",
       "      <td>0</td>\n",
       "      <td>0.0</td>\n",
       "      <td>28.972</td>\n",
       "    </tr>\n",
       "    <tr>\n",
       "      <th>2</th>\n",
       "      <td>2015-01-03</td>\n",
       "      <td>24,82</td>\n",
       "      <td>22,4</td>\n",
       "      <td>29,9</td>\n",
       "      <td>0</td>\n",
       "      <td>1.0</td>\n",
       "      <td>30.814</td>\n",
       "    </tr>\n",
       "    <tr>\n",
       "      <th>3</th>\n",
       "      <td>2015-01-04</td>\n",
       "      <td>23,98</td>\n",
       "      <td>21,5</td>\n",
       "      <td>28,6</td>\n",
       "      <td>1,2</td>\n",
       "      <td>1.0</td>\n",
       "      <td>29.799</td>\n",
       "    </tr>\n",
       "    <tr>\n",
       "      <th>4</th>\n",
       "      <td>2015-01-05</td>\n",
       "      <td>23,82</td>\n",
       "      <td>21</td>\n",
       "      <td>28,3</td>\n",
       "      <td>0</td>\n",
       "      <td>0.0</td>\n",
       "      <td>28.900</td>\n",
       "    </tr>\n",
       "  </tbody>\n",
       "</table>\n",
       "</div>"
      ],
      "text/plain": [
       "         Data Temperatura Media (C) Temperatura Minima (C)  \\\n",
       "0  2015-01-01                  27,3                   23,9   \n",
       "1  2015-01-02                 27,02                   24,5   \n",
       "2  2015-01-03                 24,82                   22,4   \n",
       "3  2015-01-04                 23,98                   21,5   \n",
       "4  2015-01-05                 23,82                     21   \n",
       "\n",
       "  Temperatura Maxima (C) Precipitacao (mm)  Final de Semana  \\\n",
       "0                   32,5                 0              0.0   \n",
       "1                   33,5                 0              0.0   \n",
       "2                   29,9                 0              1.0   \n",
       "3                   28,6               1,2              1.0   \n",
       "4                   28,3                 0              0.0   \n",
       "\n",
       "   Consumo de cerveja (litros)  \n",
       "0                       25.461  \n",
       "1                       28.972  \n",
       "2                       30.814  \n",
       "3                       29.799  \n",
       "4                       28.900  "
      ]
     },
     "execution_count": 3,
     "metadata": {},
     "output_type": "execute_result"
    }
   ],
   "source": [
    "date_df = pd.to_datetime(beer_df[\"Data\"])\n",
    "beer_df.head()"
   ]
  },
  {
   "cell_type": "markdown",
   "id": "9446b999-b433-41c6-ba96-d2c162a9571d",
   "metadata": {},
   "source": [
    "#### Converting the object columns of dtype to floats"
   ]
  },
  {
   "cell_type": "code",
   "execution_count": 4,
   "id": "549b11a1-757e-4d14-9b79-d04eaf0d1283",
   "metadata": {},
   "outputs": [],
   "source": [
    "for column in beer_df.columns:\n",
    "    if beer_df[column].dtype == 'object':\n",
    "        beer_df[column] = beer_df[column].str.replace(\",\", \".\")\n",
    "\n",
    "#convert columns to numeric dtypes\n",
    "beer_df = beer_df.apply(pd.to_numeric, errors='coerce')\n",
    "\n",
    "#convert data to datetime object to be able to extract days, months, time in general\n",
    "beer_df['Data'] = date_df"
   ]
  },
  {
   "cell_type": "code",
   "execution_count": 5,
   "id": "4d4bc024-5b47-4486-ad45-a03e696ca9da",
   "metadata": {},
   "outputs": [
    {
     "data": {
      "text/plain": [
       "Data                           datetime64[ns]\n",
       "Temperatura Media (C)                 float64\n",
       "Temperatura Minima (C)                float64\n",
       "Temperatura Maxima (C)                float64\n",
       "Precipitacao (mm)                     float64\n",
       "Final de Semana                       float64\n",
       "Consumo de cerveja (litros)           float64\n",
       "dtype: object"
      ]
     },
     "execution_count": 5,
     "metadata": {},
     "output_type": "execute_result"
    }
   ],
   "source": [
    "beer_df.dtypes"
   ]
  },
  {
   "cell_type": "code",
   "execution_count": 6,
   "id": "624024eb-3b1b-4421-b0f1-1e9c9240de95",
   "metadata": {},
   "outputs": [
    {
     "data": {
      "text/html": [
       "<div>\n",
       "<style scoped>\n",
       "    .dataframe tbody tr th:only-of-type {\n",
       "        vertical-align: middle;\n",
       "    }\n",
       "\n",
       "    .dataframe tbody tr th {\n",
       "        vertical-align: top;\n",
       "    }\n",
       "\n",
       "    .dataframe thead th {\n",
       "        text-align: right;\n",
       "    }\n",
       "</style>\n",
       "<table border=\"1\" class=\"dataframe\">\n",
       "  <thead>\n",
       "    <tr style=\"text-align: right;\">\n",
       "      <th></th>\n",
       "      <th>Temperatura Media (C)</th>\n",
       "      <th>Temperatura Minima (C)</th>\n",
       "      <th>Temperatura Maxima (C)</th>\n",
       "      <th>Precipitacao (mm)</th>\n",
       "      <th>Final de Semana</th>\n",
       "      <th>Consumo de cerveja (litros)</th>\n",
       "    </tr>\n",
       "    <tr>\n",
       "      <th>Data</th>\n",
       "      <th></th>\n",
       "      <th></th>\n",
       "      <th></th>\n",
       "      <th></th>\n",
       "      <th></th>\n",
       "      <th></th>\n",
       "    </tr>\n",
       "  </thead>\n",
       "  <tbody>\n",
       "    <tr>\n",
       "      <th>2015-01-01</th>\n",
       "      <td>27.30</td>\n",
       "      <td>23.9</td>\n",
       "      <td>32.5</td>\n",
       "      <td>0.0</td>\n",
       "      <td>0.0</td>\n",
       "      <td>25.461</td>\n",
       "    </tr>\n",
       "    <tr>\n",
       "      <th>2015-01-02</th>\n",
       "      <td>27.02</td>\n",
       "      <td>24.5</td>\n",
       "      <td>33.5</td>\n",
       "      <td>0.0</td>\n",
       "      <td>0.0</td>\n",
       "      <td>28.972</td>\n",
       "    </tr>\n",
       "    <tr>\n",
       "      <th>2015-01-03</th>\n",
       "      <td>24.82</td>\n",
       "      <td>22.4</td>\n",
       "      <td>29.9</td>\n",
       "      <td>0.0</td>\n",
       "      <td>1.0</td>\n",
       "      <td>30.814</td>\n",
       "    </tr>\n",
       "    <tr>\n",
       "      <th>2015-01-04</th>\n",
       "      <td>23.98</td>\n",
       "      <td>21.5</td>\n",
       "      <td>28.6</td>\n",
       "      <td>1.2</td>\n",
       "      <td>1.0</td>\n",
       "      <td>29.799</td>\n",
       "    </tr>\n",
       "    <tr>\n",
       "      <th>2015-01-05</th>\n",
       "      <td>23.82</td>\n",
       "      <td>21.0</td>\n",
       "      <td>28.3</td>\n",
       "      <td>0.0</td>\n",
       "      <td>0.0</td>\n",
       "      <td>28.900</td>\n",
       "    </tr>\n",
       "  </tbody>\n",
       "</table>\n",
       "</div>"
      ],
      "text/plain": [
       "            Temperatura Media (C)  Temperatura Minima (C)  \\\n",
       "Data                                                        \n",
       "2015-01-01                  27.30                    23.9   \n",
       "2015-01-02                  27.02                    24.5   \n",
       "2015-01-03                  24.82                    22.4   \n",
       "2015-01-04                  23.98                    21.5   \n",
       "2015-01-05                  23.82                    21.0   \n",
       "\n",
       "            Temperatura Maxima (C)  Precipitacao (mm)  Final de Semana  \\\n",
       "Data                                                                     \n",
       "2015-01-01                    32.5                0.0              0.0   \n",
       "2015-01-02                    33.5                0.0              0.0   \n",
       "2015-01-03                    29.9                0.0              1.0   \n",
       "2015-01-04                    28.6                1.2              1.0   \n",
       "2015-01-05                    28.3                0.0              0.0   \n",
       "\n",
       "            Consumo de cerveja (litros)  \n",
       "Data                                     \n",
       "2015-01-01                       25.461  \n",
       "2015-01-02                       28.972  \n",
       "2015-01-03                       30.814  \n",
       "2015-01-04                       29.799  \n",
       "2015-01-05                       28.900  "
      ]
     },
     "execution_count": 6,
     "metadata": {},
     "output_type": "execute_result"
    }
   ],
   "source": [
    "#setting the data column as the index of the dataframe\n",
    "beer_df.set_index('Data', inplace=True)\n",
    "beer_df.head()"
   ]
  },
  {
   "cell_type": "code",
   "execution_count": 7,
   "id": "9658fe8d-b6b4-4010-9767-ae472a360b61",
   "metadata": {},
   "outputs": [
    {
     "data": {
      "text/html": [
       "<div>\n",
       "<style scoped>\n",
       "    .dataframe tbody tr th:only-of-type {\n",
       "        vertical-align: middle;\n",
       "    }\n",
       "\n",
       "    .dataframe tbody tr th {\n",
       "        vertical-align: top;\n",
       "    }\n",
       "\n",
       "    .dataframe thead th {\n",
       "        text-align: right;\n",
       "    }\n",
       "</style>\n",
       "<table border=\"1\" class=\"dataframe\">\n",
       "  <thead>\n",
       "    <tr style=\"text-align: right;\">\n",
       "      <th></th>\n",
       "      <th>Temperatura Media (C)</th>\n",
       "      <th>Temperatura Minima (C)</th>\n",
       "      <th>Temperatura Maxima (C)</th>\n",
       "      <th>Precipitacao (mm)</th>\n",
       "      <th>Final de Semana</th>\n",
       "      <th>Consumo de cerveja (litros)</th>\n",
       "      <th>Month</th>\n",
       "      <th>Day</th>\n",
       "    </tr>\n",
       "    <tr>\n",
       "      <th>Data</th>\n",
       "      <th></th>\n",
       "      <th></th>\n",
       "      <th></th>\n",
       "      <th></th>\n",
       "      <th></th>\n",
       "      <th></th>\n",
       "      <th></th>\n",
       "      <th></th>\n",
       "    </tr>\n",
       "  </thead>\n",
       "  <tbody>\n",
       "    <tr>\n",
       "      <th>2015-01-01</th>\n",
       "      <td>27.30</td>\n",
       "      <td>23.9</td>\n",
       "      <td>32.5</td>\n",
       "      <td>0.0</td>\n",
       "      <td>0.0</td>\n",
       "      <td>25.461</td>\n",
       "      <td>1.0</td>\n",
       "      <td>3.0</td>\n",
       "    </tr>\n",
       "    <tr>\n",
       "      <th>2015-01-02</th>\n",
       "      <td>27.02</td>\n",
       "      <td>24.5</td>\n",
       "      <td>33.5</td>\n",
       "      <td>0.0</td>\n",
       "      <td>0.0</td>\n",
       "      <td>28.972</td>\n",
       "      <td>1.0</td>\n",
       "      <td>4.0</td>\n",
       "    </tr>\n",
       "    <tr>\n",
       "      <th>2015-01-03</th>\n",
       "      <td>24.82</td>\n",
       "      <td>22.4</td>\n",
       "      <td>29.9</td>\n",
       "      <td>0.0</td>\n",
       "      <td>1.0</td>\n",
       "      <td>30.814</td>\n",
       "      <td>1.0</td>\n",
       "      <td>5.0</td>\n",
       "    </tr>\n",
       "    <tr>\n",
       "      <th>2015-01-04</th>\n",
       "      <td>23.98</td>\n",
       "      <td>21.5</td>\n",
       "      <td>28.6</td>\n",
       "      <td>1.2</td>\n",
       "      <td>1.0</td>\n",
       "      <td>29.799</td>\n",
       "      <td>1.0</td>\n",
       "      <td>6.0</td>\n",
       "    </tr>\n",
       "    <tr>\n",
       "      <th>2015-01-05</th>\n",
       "      <td>23.82</td>\n",
       "      <td>21.0</td>\n",
       "      <td>28.3</td>\n",
       "      <td>0.0</td>\n",
       "      <td>0.0</td>\n",
       "      <td>28.900</td>\n",
       "      <td>1.0</td>\n",
       "      <td>0.0</td>\n",
       "    </tr>\n",
       "  </tbody>\n",
       "</table>\n",
       "</div>"
      ],
      "text/plain": [
       "            Temperatura Media (C)  Temperatura Minima (C)  \\\n",
       "Data                                                        \n",
       "2015-01-01                  27.30                    23.9   \n",
       "2015-01-02                  27.02                    24.5   \n",
       "2015-01-03                  24.82                    22.4   \n",
       "2015-01-04                  23.98                    21.5   \n",
       "2015-01-05                  23.82                    21.0   \n",
       "\n",
       "            Temperatura Maxima (C)  Precipitacao (mm)  Final de Semana  \\\n",
       "Data                                                                     \n",
       "2015-01-01                    32.5                0.0              0.0   \n",
       "2015-01-02                    33.5                0.0              0.0   \n",
       "2015-01-03                    29.9                0.0              1.0   \n",
       "2015-01-04                    28.6                1.2              1.0   \n",
       "2015-01-05                    28.3                0.0              0.0   \n",
       "\n",
       "            Consumo de cerveja (litros)  Month  Day  \n",
       "Data                                                 \n",
       "2015-01-01                       25.461    1.0  3.0  \n",
       "2015-01-02                       28.972    1.0  4.0  \n",
       "2015-01-03                       30.814    1.0  5.0  \n",
       "2015-01-04                       29.799    1.0  6.0  \n",
       "2015-01-05                       28.900    1.0  0.0  "
      ]
     },
     "execution_count": 7,
     "metadata": {},
     "output_type": "execute_result"
    }
   ],
   "source": [
    "# Creating new features from the datetime column\n",
    "beer_df['Month'] = pd.DatetimeIndex(date_df).month\n",
    "beer_df['Day'] = pd.DatetimeIndex(date_df).day_of_week  # The day of the week with Monday=0, Sunday=6\n",
    "beer_df.head()"
   ]
  },
  {
   "cell_type": "code",
   "execution_count": 8,
   "id": "484f35e9-1fd3-4113-a30e-58429b15225c",
   "metadata": {},
   "outputs": [
    {
     "data": {
      "text/plain": [
       "Temperatura Media (C)          float64\n",
       "Temperatura Minima (C)         float64\n",
       "Temperatura Maxima (C)         float64\n",
       "Precipitacao (mm)              float64\n",
       "Final de Semana                float64\n",
       "Consumo de cerveja (litros)    float64\n",
       "Month                          float64\n",
       "Day                            float64\n",
       "dtype: object"
      ]
     },
     "execution_count": 8,
     "metadata": {},
     "output_type": "execute_result"
    }
   ],
   "source": [
    "beer_df.dtypes"
   ]
  },
  {
   "cell_type": "code",
   "execution_count": 9,
   "id": "25722cbd-f216-4cd7-b5a0-0f47dff58d9b",
   "metadata": {},
   "outputs": [
    {
     "data": {
      "text/plain": [
       "(575, 941)"
      ]
     },
     "execution_count": 9,
     "metadata": {},
     "output_type": "execute_result"
    }
   ],
   "source": [
    "beer_df.duplicated().sum(), len(beer_df)"
   ]
  },
  {
   "cell_type": "markdown",
   "id": "2167f0e1-3a9d-4b3c-a8ee-122dc6097f46",
   "metadata": {},
   "source": [
    "More than half of the data is duplicated "
   ]
  },
  {
   "cell_type": "code",
   "execution_count": 10,
   "id": "d848c741-130b-412f-bb8f-9233af352ddb",
   "metadata": {},
   "outputs": [],
   "source": [
    "beer_df.drop_duplicates(inplace=True)"
   ]
  },
  {
   "cell_type": "code",
   "execution_count": 11,
   "id": "00531f0d-01a8-4a56-b567-ea01c485c63e",
   "metadata": {},
   "outputs": [
    {
     "data": {
      "text/plain": [
       "Temperatura Media (C)          1\n",
       "Temperatura Minima (C)         1\n",
       "Temperatura Maxima (C)         1\n",
       "Precipitacao (mm)              1\n",
       "Final de Semana                1\n",
       "Consumo de cerveja (litros)    1\n",
       "Month                          1\n",
       "Day                            1\n",
       "dtype: int64"
      ]
     },
     "execution_count": 11,
     "metadata": {},
     "output_type": "execute_result"
    }
   ],
   "source": [
    "beer_df.isna().sum()"
   ]
  },
  {
   "cell_type": "markdown",
   "id": "9985ba39-0f1e-47cc-954b-144832fb3f6f",
   "metadata": {},
   "source": [
    "After removing duplicate entries I would drop the missing row because its just one."
   ]
  },
  {
   "cell_type": "code",
   "execution_count": 12,
   "id": "ee995937-2e60-4669-b772-89b5c8a99d35",
   "metadata": {},
   "outputs": [
    {
     "data": {
      "text/html": [
       "<div>\n",
       "<style scoped>\n",
       "    .dataframe tbody tr th:only-of-type {\n",
       "        vertical-align: middle;\n",
       "    }\n",
       "\n",
       "    .dataframe tbody tr th {\n",
       "        vertical-align: top;\n",
       "    }\n",
       "\n",
       "    .dataframe thead th {\n",
       "        text-align: right;\n",
       "    }\n",
       "</style>\n",
       "<table border=\"1\" class=\"dataframe\">\n",
       "  <thead>\n",
       "    <tr style=\"text-align: right;\">\n",
       "      <th></th>\n",
       "      <th>Temperatura Media (C)</th>\n",
       "      <th>Temperatura Minima (C)</th>\n",
       "      <th>Temperatura Maxima (C)</th>\n",
       "      <th>Precipitacao (mm)</th>\n",
       "      <th>Final de Semana</th>\n",
       "      <th>Consumo de cerveja (litros)</th>\n",
       "      <th>Month</th>\n",
       "      <th>Day</th>\n",
       "    </tr>\n",
       "    <tr>\n",
       "      <th>Data</th>\n",
       "      <th></th>\n",
       "      <th></th>\n",
       "      <th></th>\n",
       "      <th></th>\n",
       "      <th></th>\n",
       "      <th></th>\n",
       "      <th></th>\n",
       "      <th></th>\n",
       "    </tr>\n",
       "  </thead>\n",
       "  <tbody>\n",
       "    <tr>\n",
       "      <th>2015-01-01</th>\n",
       "      <td>27.30</td>\n",
       "      <td>23.9</td>\n",
       "      <td>32.5</td>\n",
       "      <td>0.0</td>\n",
       "      <td>0.0</td>\n",
       "      <td>25.461</td>\n",
       "      <td>1.0</td>\n",
       "      <td>3.0</td>\n",
       "    </tr>\n",
       "    <tr>\n",
       "      <th>2015-01-02</th>\n",
       "      <td>27.02</td>\n",
       "      <td>24.5</td>\n",
       "      <td>33.5</td>\n",
       "      <td>0.0</td>\n",
       "      <td>0.0</td>\n",
       "      <td>28.972</td>\n",
       "      <td>1.0</td>\n",
       "      <td>4.0</td>\n",
       "    </tr>\n",
       "    <tr>\n",
       "      <th>2015-01-03</th>\n",
       "      <td>24.82</td>\n",
       "      <td>22.4</td>\n",
       "      <td>29.9</td>\n",
       "      <td>0.0</td>\n",
       "      <td>1.0</td>\n",
       "      <td>30.814</td>\n",
       "      <td>1.0</td>\n",
       "      <td>5.0</td>\n",
       "    </tr>\n",
       "    <tr>\n",
       "      <th>2015-01-04</th>\n",
       "      <td>23.98</td>\n",
       "      <td>21.5</td>\n",
       "      <td>28.6</td>\n",
       "      <td>1.2</td>\n",
       "      <td>1.0</td>\n",
       "      <td>29.799</td>\n",
       "      <td>1.0</td>\n",
       "      <td>6.0</td>\n",
       "    </tr>\n",
       "    <tr>\n",
       "      <th>2015-01-05</th>\n",
       "      <td>23.82</td>\n",
       "      <td>21.0</td>\n",
       "      <td>28.3</td>\n",
       "      <td>0.0</td>\n",
       "      <td>0.0</td>\n",
       "      <td>28.900</td>\n",
       "      <td>1.0</td>\n",
       "      <td>0.0</td>\n",
       "    </tr>\n",
       "  </tbody>\n",
       "</table>\n",
       "</div>"
      ],
      "text/plain": [
       "            Temperatura Media (C)  Temperatura Minima (C)  \\\n",
       "Data                                                        \n",
       "2015-01-01                  27.30                    23.9   \n",
       "2015-01-02                  27.02                    24.5   \n",
       "2015-01-03                  24.82                    22.4   \n",
       "2015-01-04                  23.98                    21.5   \n",
       "2015-01-05                  23.82                    21.0   \n",
       "\n",
       "            Temperatura Maxima (C)  Precipitacao (mm)  Final de Semana  \\\n",
       "Data                                                                     \n",
       "2015-01-01                    32.5                0.0              0.0   \n",
       "2015-01-02                    33.5                0.0              0.0   \n",
       "2015-01-03                    29.9                0.0              1.0   \n",
       "2015-01-04                    28.6                1.2              1.0   \n",
       "2015-01-05                    28.3                0.0              0.0   \n",
       "\n",
       "            Consumo de cerveja (litros)  Month  Day  \n",
       "Data                                                 \n",
       "2015-01-01                       25.461    1.0  3.0  \n",
       "2015-01-02                       28.972    1.0  4.0  \n",
       "2015-01-03                       30.814    1.0  5.0  \n",
       "2015-01-04                       29.799    1.0  6.0  \n",
       "2015-01-05                       28.900    1.0  0.0  "
      ]
     },
     "execution_count": 12,
     "metadata": {},
     "output_type": "execute_result"
    }
   ],
   "source": [
    "beer_df.dropna(axis=0, inplace=True)\n",
    "beer_df.head()"
   ]
  },
  {
   "cell_type": "code",
   "execution_count": 13,
   "id": "32dfc1ba-577f-45bb-8f28-da266a5412ec",
   "metadata": {},
   "outputs": [
    {
     "data": {
      "text/plain": [
       "Temperatura Media (C)          0\n",
       "Temperatura Minima (C)         0\n",
       "Temperatura Maxima (C)         0\n",
       "Precipitacao (mm)              0\n",
       "Final de Semana                0\n",
       "Consumo de cerveja (litros)    0\n",
       "Month                          0\n",
       "Day                            0\n",
       "dtype: int64"
      ]
     },
     "execution_count": 13,
     "metadata": {},
     "output_type": "execute_result"
    }
   ],
   "source": [
    "beer_df.isna().sum()"
   ]
  },
  {
   "cell_type": "code",
   "execution_count": 14,
   "id": "0baab2ae-7fda-43af-9f4c-be0421a1cb09",
   "metadata": {},
   "outputs": [
    {
     "data": {
      "image/png": "[encoded data removed]",
      "text/plain": [
       "<Figure size 640x480 with 1 Axes>"
      ]
     },
     "metadata": {},
     "output_type": "display_data"
    },
    {
     "data": {
      "image/png": "[encoded data removed]",
      "text/plain": [
       "<Figure size 640x480 with 1 Axes>"
      ]
     },
     "metadata": {},
     "output_type": "display_data"
    },
    {
     "data": {
      "image/png": "[encoded data removed]",
      "text/plain": [
       "<Figure size 640x480 with 1 Axes>"
      ]
     },
     "metadata": {},
     "output_type": "display_data"
    },
    {
     "data": {
      "image/png": "[encoded data removed]",
      "text/plain": [
       "<Figure size 640x480 with 1 Axes>"
      ]
     },
     "metadata": {},
     "output_type": "display_data"
    },
    {
     "data": {
      "image/png": "[encoded data removed]",
      "text/plain": [
       "<Figure size 640x480 with 1 Axes>"
      ]
     },
     "metadata": {},
     "output_type": "display_data"
    },
    {
     "data": {
      "image/png": "[encoded data removed]",
      "text/plain": [
       "<Figure size 640x480 with 1 Axes>"
      ]
     },
     "metadata": {},
     "output_type": "display_data"
    },
    {
     "data": {
      "image/png": "[encoded data removed]",
      "text/plain": [
       "<Figure size 640x480 with 1 Axes>"
      ]
     },
     "metadata": {},
     "output_type": "display_data"
    },
    {
     "data": {
      "image/png": "[encoded data removed]",
      "text/plain": [
       "<Figure size 640x480 with 1 Axes>"
      ]
     },
     "metadata": {},
     "output_type": "display_data"
    }
   ],
   "source": [
    "for column in beer_df.columns:\n",
    "    fig, ax = plt.subplots()\n",
    "    plt.boxplot(beer_df[column])\n",
    "    ax.set_title(f\"Outlier for {column}\")"
   ]
  },
  {
   "cell_type": "code",
   "execution_count": 15,
   "id": "5120db32-ea3d-4f90-96d4-e3a2750ce198",
   "metadata": {},
   "outputs": [
    {
     "data": {
      "text/html": [
       "<div>\n",
       "<style scoped>\n",
       "    .dataframe tbody tr th:only-of-type {\n",
       "        vertical-align: middle;\n",
       "    }\n",
       "\n",
       "    .dataframe tbody tr th {\n",
       "        vertical-align: top;\n",
       "    }\n",
       "\n",
       "    .dataframe thead th {\n",
       "        text-align: right;\n",
       "    }\n",
       "</style>\n",
       "<table border=\"1\" class=\"dataframe\">\n",
       "  <thead>\n",
       "    <tr style=\"text-align: right;\">\n",
       "      <th></th>\n",
       "      <th>Temperatura Media (C)</th>\n",
       "      <th>Temperatura Minima (C)</th>\n",
       "      <th>Temperatura Maxima (C)</th>\n",
       "      <th>Precipitacao (mm)</th>\n",
       "      <th>Final de Semana</th>\n",
       "      <th>Consumo de cerveja (litros)</th>\n",
       "      <th>Month</th>\n",
       "      <th>Day</th>\n",
       "    </tr>\n",
       "  </thead>\n",
       "  <tbody>\n",
       "    <tr>\n",
       "      <th>Temperatura Media (C)</th>\n",
       "      <td>1.000000</td>\n",
       "      <td>0.862752</td>\n",
       "      <td>0.922513</td>\n",
       "      <td>0.024416</td>\n",
       "      <td>-0.050803</td>\n",
       "      <td>0.574615</td>\n",
       "      <td>-0.103169</td>\n",
       "      <td>-0.018669</td>\n",
       "    </tr>\n",
       "    <tr>\n",
       "      <th>Temperatura Minima (C)</th>\n",
       "      <td>0.862752</td>\n",
       "      <td>1.000000</td>\n",
       "      <td>0.672929</td>\n",
       "      <td>0.098625</td>\n",
       "      <td>-0.059534</td>\n",
       "      <td>0.392509</td>\n",
       "      <td>-0.172923</td>\n",
       "      <td>-0.016574</td>\n",
       "    </tr>\n",
       "    <tr>\n",
       "      <th>Temperatura Maxima (C)</th>\n",
       "      <td>0.922513</td>\n",
       "      <td>0.672929</td>\n",
       "      <td>1.000000</td>\n",
       "      <td>-0.049305</td>\n",
       "      <td>-0.040258</td>\n",
       "      <td>0.642672</td>\n",
       "      <td>-0.074866</td>\n",
       "      <td>-0.020871</td>\n",
       "    </tr>\n",
       "    <tr>\n",
       "      <th>Precipitacao (mm)</th>\n",
       "      <td>0.024416</td>\n",
       "      <td>0.098625</td>\n",
       "      <td>-0.049305</td>\n",
       "      <td>1.000000</td>\n",
       "      <td>0.001587</td>\n",
       "      <td>-0.193784</td>\n",
       "      <td>0.007089</td>\n",
       "      <td>-0.063284</td>\n",
       "    </tr>\n",
       "    <tr>\n",
       "      <th>Final de Semana</th>\n",
       "      <td>-0.050803</td>\n",
       "      <td>-0.059534</td>\n",
       "      <td>-0.040258</td>\n",
       "      <td>0.001587</td>\n",
       "      <td>1.000000</td>\n",
       "      <td>0.505981</td>\n",
       "      <td>-0.006526</td>\n",
       "      <td>0.790137</td>\n",
       "    </tr>\n",
       "    <tr>\n",
       "      <th>Consumo de cerveja (litros)</th>\n",
       "      <td>0.574615</td>\n",
       "      <td>0.392509</td>\n",
       "      <td>0.642672</td>\n",
       "      <td>-0.193784</td>\n",
       "      <td>0.505981</td>\n",
       "      <td>1.000000</td>\n",
       "      <td>0.039908</td>\n",
       "      <td>0.413826</td>\n",
       "    </tr>\n",
       "    <tr>\n",
       "      <th>Month</th>\n",
       "      <td>-0.103169</td>\n",
       "      <td>-0.172923</td>\n",
       "      <td>-0.074866</td>\n",
       "      <td>0.007089</td>\n",
       "      <td>-0.006526</td>\n",
       "      <td>0.039908</td>\n",
       "      <td>1.000000</td>\n",
       "      <td>-0.009549</td>\n",
       "    </tr>\n",
       "    <tr>\n",
       "      <th>Day</th>\n",
       "      <td>-0.018669</td>\n",
       "      <td>-0.016574</td>\n",
       "      <td>-0.020871</td>\n",
       "      <td>-0.063284</td>\n",
       "      <td>0.790137</td>\n",
       "      <td>0.413826</td>\n",
       "      <td>-0.009549</td>\n",
       "      <td>1.000000</td>\n",
       "    </tr>\n",
       "  </tbody>\n",
       "</table>\n",
       "</div>"
      ],
      "text/plain": [
       "                             Temperatura Media (C)  Temperatura Minima (C)  \\\n",
       "Temperatura Media (C)                     1.000000                0.862752   \n",
       "Temperatura Minima (C)                    0.862752                1.000000   \n",
       "Temperatura Maxima (C)                    0.922513                0.672929   \n",
       "Precipitacao (mm)                         0.024416                0.098625   \n",
       "Final de Semana                          -0.050803               -0.059534   \n",
       "Consumo de cerveja (litros)               0.574615                0.392509   \n",
       "Month                                    -0.103169               -0.172923   \n",
       "Day                                      -0.018669               -0.016574   \n",
       "\n",
       "                             Temperatura Maxima (C)  Precipitacao (mm)  \\\n",
       "Temperatura Media (C)                      0.922513           0.024416   \n",
       "Temperatura Minima (C)                     0.672929           0.098625   \n",
       "Temperatura Maxima (C)                     1.000000          -0.049305   \n",
       "Precipitacao (mm)                         -0.049305           1.000000   \n",
       "Final de Semana                           -0.040258           0.001587   \n",
       "Consumo de cerveja (litros)                0.642672          -0.193784   \n",
       "Month                                     -0.074866           0.007089   \n",
       "Day                                       -0.020871          -0.063284   \n",
       "\n",
       "                             Final de Semana  Consumo de cerveja (litros)  \\\n",
       "Temperatura Media (C)              -0.050803                     0.574615   \n",
       "Temperatura Minima (C)             -0.059534                     0.392509   \n",
       "Temperatura Maxima (C)             -0.040258                     0.642672   \n",
       "Precipitacao (mm)                   0.001587                    -0.193784   \n",
       "Final de Semana                     1.000000                     0.505981   \n",
       "Consumo de cerveja (litros)         0.505981                     1.000000   \n",
       "Month                              -0.006526                     0.039908   \n",
       "Day                                 0.790137                     0.413826   \n",
       "\n",
       "                                Month       Day  \n",
       "Temperatura Media (C)       -0.103169 -0.018669  \n",
       "Temperatura Minima (C)      -0.172923 -0.016574  \n",
       "Temperatura Maxima (C)      -0.074866 -0.020871  \n",
       "Precipitacao (mm)            0.007089 -0.063284  \n",
       "Final de Semana             -0.006526  0.790137  \n",
       "Consumo de cerveja (litros)  0.039908  0.413826  \n",
       "Month                        1.000000 -0.009549  \n",
       "Day                         -0.009549  1.000000  "
      ]
     },
     "execution_count": 15,
     "metadata": {},
     "output_type": "execute_result"
    }
   ],
   "source": [
    "beer_df.corr()"
   ]
  },
  {
   "cell_type": "code",
   "execution_count": 16,
   "id": "9e5cede7-fca2-4b72-b5b9-e3033438be36",
   "metadata": {},
   "outputs": [
    {
     "data": {
      "text/plain": [
       "<Axes: >"
      ]
     },
     "execution_count": 16,
     "metadata": {},
     "output_type": "execute_result"
    },
    {
     "data": {
      "image/png": "[encoded data removed]",
      "text/plain": [
       "<Figure size 1300x800 with 2 Axes>"
      ]
     },
     "metadata": {},
     "output_type": "display_data"
    }
   ],
   "source": [
    "fig, ax = plt.subplots(figsize=(13, 8))\n",
    "sns.heatmap(beer_df.corr(), annot=True, ax=ax)"
   ]
  },
  {
   "cell_type": "code",
   "execution_count": 17,
   "id": "34b1e3bc-67af-46cd-abc7-7d62e23cf295",
   "metadata": {},
   "outputs": [
    {
     "data": {
      "text/plain": [
       "((255, 7), (110, 7), (255,), (110,))"
      ]
     },
     "execution_count": 17,
     "metadata": {},
     "output_type": "execute_result"
    }
   ],
   "source": [
    "X = beer_df.drop(\"Consumo de cerveja (litros)\", axis=1)\n",
    "y = beer_df[\"Consumo de cerveja (litros)\"]\n",
    "X_train, X_test, y_train, y_test = train_test_split(X, y, test_size=0.3)\n",
    "X_train.shape, X_test.shape, y_train.shape, y_test.shape"
   ]
  },
  {
   "cell_type": "code",
   "execution_count": 18,
   "id": "c32491cf-544f-493f-ae59-b2eaf5a593eb",
   "metadata": {},
   "outputs": [
    {
     "data": {
      "text/plain": [
       "(0.7399971062989981, 0.6968068416186932)"
      ]
     },
     "execution_count": 18,
     "metadata": {},
     "output_type": "execute_result"
    }
   ],
   "source": [
    "model = LinearRegression()\n",
    "model.fit(X_train, y_train)\n",
    "model.score(X_train, y_train), model.score(X_test, y_test)"
   ]
  },
  {
   "cell_type": "code",
   "execution_count": 19,
   "id": "5ac52baa-cb0b-4ebb-99cd-f4bd9ac94c62",
   "metadata": {},
   "outputs": [],
   "source": [
    "y_preds = model.predict(X_test)"
   ]
  },
  {
   "cell_type": "code",
   "execution_count": 20,
   "id": "3273f3be-a463-4161-a4da-9aef1f80233f",
   "metadata": {},
   "outputs": [
    {
     "data": {
      "text/plain": [
       "(0.6968068416186932, 1.8519431103427453, 2.253773538644808)"
      ]
     },
     "execution_count": 20,
     "metadata": {},
     "output_type": "execute_result"
    }
   ],
   "source": [
    "#evaluating the model\n",
    "r2 = r2_score(y_test, y_preds)\n",
    "mse = mean_absolute_error(y_test, y_preds)\n",
    "rmse = math.sqrt(mean_squared_error(y_test, y_preds))\n",
    "\n",
    "r2, mse, rmse"
   ]
  },
  {
   "cell_type": "code",
   "execution_count": 21,
   "id": "9b224172-ae65-455a-9549-b3d6e0165a4b",
   "metadata": {},
   "outputs": [
    {
     "data": {
      "text/plain": [
       "(array([-0.05599008,  0.05123602,  0.68047064, -0.06755034,  5.39791837,\n",
       "         0.12803726, -0.05057815]),\n",
       " 5.665098274133825)"
      ]
     },
     "execution_count": 21,
     "metadata": {},
     "output_type": "execute_result"
    }
   ],
   "source": [
    "model.coef_, model.intercept_"
   ]
  },
  {
   "cell_type": "markdown",
   "id": "791a42be-fb99-4cae-a2d9-ed68da71bd12",
   "metadata": {},
   "source": [
    "## <span style=\"color:lightblue\"> **Problem Statement 2:** </span>\n",
    "I am provided with the california housing dataset. Based on the given parameters of a house, predict its price.\n",
    "\n",
    "**Dataset Description:**\n",
    "\n",
    "The dataset contains nine features:\n",
    "- Longitude: A measure of how far west a house is; a higher value is farther west\n",
    "- Latitude: A measure of how far north a house is; a higher value is farther north\n",
    "- hosingMedianAge: Meduan age of a house within a block; a lower number is a newser building\n",
    "- total rooms: Total number of rooms withina block\n",
    "- total bedrooms: Total number of bedrooms within a block\n",
    "- populations: Total number of people residing within a block\n",
    "- households: Total number of households, a group of people residing within a home unit, for a block\n",
    "- median income: Median income for households within a block of houses (measured in tens of thousands of US Dollars)\n",
    "- median house value: Median house value for households within a block (measured in US Dollars)\n",
    "\n",
    "I'm writing a python code to perform the following tasks mentioned:\n",
    "1. Load the datam check its shape and check for null values\n",
    "2. Split the datset for training and testing - 1000- instances for testing\n",
    "3. Train the model using sklearn (Apply linear regression to train a model for prediction)\n",
    "4. Predict the prices on test data and evaluate the model by r2 score and mean absolute error\n",
    "5. Find coefficient and intercept using the trained model"
   ]
  },
  {
   "cell_type": "code",
   "execution_count": 24,
   "id": "a6c14b76-a2d7-4b2b-b1b9-bec08650a28d",
   "metadata": {},
   "outputs": [
    {
     "data": {
      "text/html": [
       "<div>\n",
       "<style scoped>\n",
       "    .dataframe tbody tr th:only-of-type {\n",
       "        vertical-align: middle;\n",
       "    }\n",
       "\n",
       "    .dataframe tbody tr th {\n",
       "        vertical-align: top;\n",
       "    }\n",
       "\n",
       "    .dataframe thead th {\n",
       "        text-align: right;\n",
       "    }\n",
       "</style>\n",
       "<table border=\"1\" class=\"dataframe\">\n",
       "  <thead>\n",
       "    <tr style=\"text-align: right;\">\n",
       "      <th></th>\n",
       "      <th>longitude</th>\n",
       "      <th>latitude</th>\n",
       "      <th>housing_median_age</th>\n",
       "      <th>total_rooms</th>\n",
       "      <th>total_bedrooms</th>\n",
       "      <th>population</th>\n",
       "      <th>households</th>\n",
       "      <th>median_income</th>\n",
       "      <th>median_house_value</th>\n",
       "    </tr>\n",
       "  </thead>\n",
       "  <tbody>\n",
       "    <tr>\n",
       "      <th>0</th>\n",
       "      <td>-114.31</td>\n",
       "      <td>34.19</td>\n",
       "      <td>15.0</td>\n",
       "      <td>5612.0</td>\n",
       "      <td>1283.0</td>\n",
       "      <td>1015.0</td>\n",
       "      <td>472.0</td>\n",
       "      <td>1.4936</td>\n",
       "      <td>66900.0</td>\n",
       "    </tr>\n",
       "    <tr>\n",
       "      <th>1</th>\n",
       "      <td>-114.47</td>\n",
       "      <td>34.40</td>\n",
       "      <td>19.0</td>\n",
       "      <td>7650.0</td>\n",
       "      <td>1901.0</td>\n",
       "      <td>1129.0</td>\n",
       "      <td>463.0</td>\n",
       "      <td>1.8200</td>\n",
       "      <td>80100.0</td>\n",
       "    </tr>\n",
       "    <tr>\n",
       "      <th>2</th>\n",
       "      <td>-114.56</td>\n",
       "      <td>33.69</td>\n",
       "      <td>17.0</td>\n",
       "      <td>720.0</td>\n",
       "      <td>174.0</td>\n",
       "      <td>333.0</td>\n",
       "      <td>117.0</td>\n",
       "      <td>1.6509</td>\n",
       "      <td>85700.0</td>\n",
       "    </tr>\n",
       "    <tr>\n",
       "      <th>3</th>\n",
       "      <td>-114.57</td>\n",
       "      <td>33.64</td>\n",
       "      <td>14.0</td>\n",
       "      <td>1501.0</td>\n",
       "      <td>337.0</td>\n",
       "      <td>515.0</td>\n",
       "      <td>226.0</td>\n",
       "      <td>3.1917</td>\n",
       "      <td>73400.0</td>\n",
       "    </tr>\n",
       "    <tr>\n",
       "      <th>4</th>\n",
       "      <td>-114.57</td>\n",
       "      <td>33.57</td>\n",
       "      <td>20.0</td>\n",
       "      <td>1454.0</td>\n",
       "      <td>326.0</td>\n",
       "      <td>624.0</td>\n",
       "      <td>262.0</td>\n",
       "      <td>1.9250</td>\n",
       "      <td>65500.0</td>\n",
       "    </tr>\n",
       "  </tbody>\n",
       "</table>\n",
       "</div>"
      ],
      "text/plain": [
       "   longitude  latitude  housing_median_age  total_rooms  total_bedrooms  \\\n",
       "0    -114.31     34.19                15.0       5612.0          1283.0   \n",
       "1    -114.47     34.40                19.0       7650.0          1901.0   \n",
       "2    -114.56     33.69                17.0        720.0           174.0   \n",
       "3    -114.57     33.64                14.0       1501.0           337.0   \n",
       "4    -114.57     33.57                20.0       1454.0           326.0   \n",
       "\n",
       "   population  households  median_income  median_house_value  \n",
       "0      1015.0       472.0         1.4936             66900.0  \n",
       "1      1129.0       463.0         1.8200             80100.0  \n",
       "2       333.0       117.0         1.6509             85700.0  \n",
       "3       515.0       226.0         3.1917             73400.0  \n",
       "4       624.0       262.0         1.9250             65500.0  "
      ]
     },
     "execution_count": 24,
     "metadata": {},
     "output_type": "execute_result"
    }
   ],
   "source": [
    "housing_df = pd.read_csv(\"./../Assignment_files/california_housing_train_ass4.csv\")\n",
    "housing_df.head()"
   ]
  },
  {
   "cell_type": "code",
   "execution_count": 27,
   "id": "b8fc52aa-415d-4f74-ad1c-f422f86c1851",
   "metadata": {},
   "outputs": [
    {
     "data": {
      "text/plain": [
       "longitude             0\n",
       "latitude              0\n",
       "housing_median_age    0\n",
       "total_rooms           0\n",
       "total_bedrooms        0\n",
       "population            0\n",
       "households            0\n",
       "median_income         0\n",
       "median_house_value    0\n",
       "dtype: int64"
      ]
     },
     "execution_count": 27,
     "metadata": {},
     "output_type": "execute_result"
    }
   ],
   "source": [
    "housing_df.isna().sum()"
   ]
  },
  {
   "cell_type": "code",
   "execution_count": 28,
   "id": "0d73b415-4789-4374-b156-0c516b5e595e",
   "metadata": {},
   "outputs": [
    {
     "data": {
      "text/plain": [
       "(17000, 9)"
      ]
     },
     "execution_count": 28,
     "metadata": {},
     "output_type": "execute_result"
    }
   ],
   "source": [
    "housing_df.shape"
   ]
  },
  {
   "cell_type": "code",
   "execution_count": 35,
   "id": "8273034a-05c2-48c8-b7fc-6b7cd6ae4156",
   "metadata": {},
   "outputs": [
    {
     "data": {
      "text/plain": [
       "(17000, 9)"
      ]
     },
     "execution_count": 35,
     "metadata": {},
     "output_type": "execute_result"
    }
   ],
   "source": [
    "shuffled_df = housing_df.sample(frac=1, random_state=42)\n",
    "shuffled_df.shape"
   ]
  },
  {
   "cell_type": "code",
   "execution_count": 43,
   "id": "01dc8730-869f-485d-9634-179d4bee5923",
   "metadata": {},
   "outputs": [
    {
     "data": {
      "text/html": [
       "<div>\n",
       "<style scoped>\n",
       "    .dataframe tbody tr th:only-of-type {\n",
       "        vertical-align: middle;\n",
       "    }\n",
       "\n",
       "    .dataframe tbody tr th {\n",
       "        vertical-align: top;\n",
       "    }\n",
       "\n",
       "    .dataframe thead th {\n",
       "        text-align: right;\n",
       "    }\n",
       "</style>\n",
       "<table border=\"1\" class=\"dataframe\">\n",
       "  <thead>\n",
       "    <tr style=\"text-align: right;\">\n",
       "      <th></th>\n",
       "      <th>longitude</th>\n",
       "      <th>latitude</th>\n",
       "      <th>housing_median_age</th>\n",
       "      <th>total_rooms</th>\n",
       "      <th>total_bedrooms</th>\n",
       "      <th>population</th>\n",
       "      <th>households</th>\n",
       "      <th>median_income</th>\n",
       "      <th>median_house_value</th>\n",
       "    </tr>\n",
       "  </thead>\n",
       "  <tbody>\n",
       "    <tr>\n",
       "      <th>8637</th>\n",
       "      <td>-118.54</td>\n",
       "      <td>34.24</td>\n",
       "      <td>24.0</td>\n",
       "      <td>4631.0</td>\n",
       "      <td>1164.0</td>\n",
       "      <td>2360.0</td>\n",
       "      <td>1083.0</td>\n",
       "      <td>3.0977</td>\n",
       "      <td>264000.0</td>\n",
       "    </tr>\n",
       "    <tr>\n",
       "      <th>884</th>\n",
       "      <td>-117.08</td>\n",
       "      <td>32.97</td>\n",
       "      <td>3.0</td>\n",
       "      <td>17466.0</td>\n",
       "      <td>3336.0</td>\n",
       "      <td>7644.0</td>\n",
       "      <td>2895.0</td>\n",
       "      <td>5.4584</td>\n",
       "      <td>246500.0</td>\n",
       "    </tr>\n",
       "    <tr>\n",
       "      <th>10630</th>\n",
       "      <td>-120.48</td>\n",
       "      <td>34.90</td>\n",
       "      <td>20.0</td>\n",
       "      <td>3842.0</td>\n",
       "      <td>630.0</td>\n",
       "      <td>2490.0</td>\n",
       "      <td>662.0</td>\n",
       "      <td>3.0559</td>\n",
       "      <td>120100.0</td>\n",
       "    </tr>\n",
       "    <tr>\n",
       "      <th>6307</th>\n",
       "      <td>-118.25</td>\n",
       "      <td>33.95</td>\n",
       "      <td>48.0</td>\n",
       "      <td>1766.0</td>\n",
       "      <td>424.0</td>\n",
       "      <td>1655.0</td>\n",
       "      <td>420.0</td>\n",
       "      <td>0.9751</td>\n",
       "      <td>95500.0</td>\n",
       "    </tr>\n",
       "    <tr>\n",
       "      <th>4209</th>\n",
       "      <td>-117.99</td>\n",
       "      <td>33.68</td>\n",
       "      <td>18.0</td>\n",
       "      <td>2024.0</td>\n",
       "      <td>462.0</td>\n",
       "      <td>1047.0</td>\n",
       "      <td>451.0</td>\n",
       "      <td>3.5848</td>\n",
       "      <td>186900.0</td>\n",
       "    </tr>\n",
       "  </tbody>\n",
       "</table>\n",
       "</div>"
      ],
      "text/plain": [
       "       longitude  latitude  housing_median_age  total_rooms  total_bedrooms  \\\n",
       "8637     -118.54     34.24                24.0       4631.0          1164.0   \n",
       "884      -117.08     32.97                 3.0      17466.0          3336.0   \n",
       "10630    -120.48     34.90                20.0       3842.0           630.0   \n",
       "6307     -118.25     33.95                48.0       1766.0           424.0   \n",
       "4209     -117.99     33.68                18.0       2024.0           462.0   \n",
       "\n",
       "       population  households  median_income  median_house_value  \n",
       "8637       2360.0      1083.0         3.0977            264000.0  \n",
       "884        7644.0      2895.0         5.4584            246500.0  \n",
       "10630      2490.0       662.0         3.0559            120100.0  \n",
       "6307       1655.0       420.0         0.9751             95500.0  \n",
       "4209       1047.0       451.0         3.5848            186900.0  "
      ]
     },
     "execution_count": 43,
     "metadata": {},
     "output_type": "execute_result"
    }
   ],
   "source": [
    "train_data.head()"
   ]
  },
  {
   "cell_type": "markdown",
   "id": "22d80a7f-f841-4dee-9d2e-d62c9c284ad3",
   "metadata": {},
   "source": [
    "Getting test and train data (making sure that test has 1000 samples)"
   ]
  },
  {
   "cell_type": "code",
   "execution_count": 48,
   "id": "03ad2e83-2bb0-4284-81ef-07c07cfe18a7",
   "metadata": {},
   "outputs": [
    {
     "data": {
      "text/plain": [
       "0.6410106682980451"
      ]
     },
     "execution_count": 48,
     "metadata": {},
     "output_type": "execute_result"
    }
   ],
   "source": [
    "test_data = shuffled_df.iloc[0:1000]\n",
    "test_data.shape\n",
    "\n",
    "train_data = shuffled_df.iloc[1000:]\n",
    "train_data.shape, test_data.shape\n",
    "\n",
    "X_train = train_data.drop(\"median_house_value\", axis=1)\n",
    "X_test = test_data.drop(\"median_house_value\", axis=1)\n",
    "\n",
    "y_train = train_data.median_house_value\n",
    "y_test = test_data.median_house_value\n",
    "\n",
    "#Initialize the model\n",
    "model = LinearRegression()\n",
    "model.fit(X_train, y_train)\n",
    "model.score(X_train, y_train)"
   ]
  },
  {
   "cell_type": "code",
   "execution_count": 52,
   "id": "11da2dd1-4887-434d-add0-5bf27c803dc1",
   "metadata": {},
   "outputs": [
    {
     "data": {
      "text/plain": [
       "(0.4104653591986547, 52486.711217711054, 72867.53677522765)"
      ]
     },
     "execution_count": 52,
     "metadata": {},
     "output_type": "execute_result"
    }
   ],
   "source": [
    "#Predict the prices on test data and evaluate the model by r2 score and mean absolute\n",
    "y_preds = model.predict(X_test)\n",
    "\n",
    "r2score = r2_score(y_preds, y_test)\n",
    "mae = mean_absolute_error(y_preds, y_test)\n",
    "rmse = math.sqrt(mean_squared_error(y_preds, y_test))\n",
    "r2score, mae, rmse"
   ]
  },
  {
   "cell_type": "code",
   "execution_count": 55,
   "id": "24fc5625-0aaf-4920-b7ce-d1c58817004a",
   "metadata": {},
   "outputs": [
    {
     "data": {
      "text/plain": [
       "(-3632877.842511851,\n",
       " array([-4.32650586e+04, -4.29877050e+04,  1.13224456e+03, -8.24971921e+00,\n",
       "         1.15173391e+02, -3.72835206e+01,  4.39458716e+01,  4.04437504e+04]))"
      ]
     },
     "execution_count": 55,
     "metadata": {},
     "output_type": "execute_result"
    }
   ],
   "source": [
    "#Task 5: Find coefficient and  intercept using the trained model\n",
    "model.intercept_, model.coef_"
   ]
  },
  {
   "cell_type": "markdown",
   "id": "afba5de6-ce25-45b0-8c7a-d539b5bc0529",
   "metadata": {},
   "source": [
    "## <span style=\"color:lightblue\"> **Problem Statement 3:** </span>\n",
    "I have been provided with the  medical cost dataset. I need to predict individual medical costs billed by health insurance.\n",
    "\n",
    "Dataset Description:\n",
    "- age: age of the primary beneficiary\n",
    "- sex: gender of primary beneficiary female, male\n",
    "- bmi: Body mass index, providing an understanding of the body, weights that are relatively<br>\n",
    "  high or low relative to height, an objective index of body.\n",
    "- weight(kg/m ^ 2) using the ratio of height to weight, ideally 18.5 to 24.9\n",
    "- Children: Number of children covered by health insurance / Number of dependents\n",
    "- smoker: Smokes or not\n",
    "- region: the beneficiary's residential area in the US, northest, southeast, southwest, northwest\n",
    "- charges: Individual medical costs billed by health insurance\n",
    "\n",
    "I would write a python code to perform the following tasks mentioned:\n",
    "1. Load the datam check its shape and check for null values\n",
    "2. Convert categorical features to numerical values (Use One-Hot Encoding)\n",
    "3. Split the dataset for training and testing\n",
    "4. Train the model using sklearn - Linear Regression\n",
    "5. Find the intercept and coefficient from the trained model\n",
    "6. Predict the prices of test data and evalutate the model using calculated r2 score and root mean squared error"
   ]
  },
  {
   "cell_type": "code",
   "execution_count": null,
   "id": "77d3bb1c-0611-4a00-a8e7-8ff6d4c6a7be",
   "metadata": {},
   "outputs": [],
   "source": []
  },
  {
   "cell_type": "markdown",
   "id": "e6a658a0-9373-4acf-944f-4315302ce90e",
   "metadata": {},
   "source": [
    "## <span style=\"color:lightblue\"> **Problem Statement 4:** </span>\n",
    "I have been provided with the '50_Startups' data. Using the given features, I must predict the profit of these startups.\n",
    "\n",
    "**Dataset Description:**\n",
    "- R&D Spend: Expenditures in Research and Development\n",
    "- Administration: Expenditures in Administration\n",
    "- Marketing Spend: Expenditures in Marketing\n",
    "- State: In which state the company belongs to\n",
    "- Profit: The profit made by the company\n",
    "\n",
    "I would write python code to perform the following tasks mentioned:\n",
    "1. Load the data, check its shape and check for null values\n",
    "2. Convert categorical features to numerical values using Label Encoder\n",
    "3. Split the dataset for training and testing\n",
    "4. Train the model using sklearn (linear regression), also find the intercept and coefficient from the trained model\n",
    "5. Predict the profits of test data and evaluate the model using r2 score and mean squared error\n",
    "6. Regularize the model using Ridge Regression and find the score\n",
    "7. Regularize the model using Lasso Regeression and find the score"
   ]
  },
  {
   "cell_type": "code",
   "execution_count": null,
   "id": "2d84d982-82f8-49b2-bf37-4d6a79509a70",
   "metadata": {},
   "outputs": [],
   "source": []
  }
 ],
 "metadata": {
  "kernelspec": {
   "display_name": "Python 3 (ipykernel)",
   "language": "python",
   "name": "python3"
  },
  "language_info": {
   "codemirror_mode": {
    "name": "ipython",
    "version": 3
   },
   "file_extension": ".py",
   "mimetype": "text/x-python",
   "name": "python",
   "nbconvert_exporter": "python",
   "pygments_lexer": "ipython3",
   "version": "3.11.5"
  }
 },
 "nbformat": 4,
 "nbformat_minor": 5
}
