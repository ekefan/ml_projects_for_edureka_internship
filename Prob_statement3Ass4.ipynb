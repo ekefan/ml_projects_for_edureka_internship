{
 "cells": [
  {
   "cell_type": "markdown",
   "id": "adf26f8c-3cb5-4865-81ac-94a127318be9",
   "metadata": {},
   "source": [
    "## <span style=\"color:lightblue\"> **Problem Statement 3:** </span>\n",
    "I have been provided with the  medical cost dataset. I need to predict individual medical costs billed by health insurance.\n",
    "\n",
    "Dataset Description:\n",
    "- age: age of the primary beneficiary\n",
    "- sex: gender of primary beneficiary female, male\n",
    "- bmi: Body mass index, providing an understanding of the body, weights that are relatively<br>\n",
    "  high or low relative to height, an objective index of body.\n",
    "- weight(kg/m ^ 2) using the ratio of height to weight, ideally 18.5 to 24.9\n",
    "- Children: Number of children covered by health insurance / Number of dependents\n",
    "- smoker: Smokes or not\n",
    "- region: the beneficiary's residential area in the US, northest, southeast, southwest, northwest\n",
    "- charges: Individual medical costs billed by health insurance\n",
    "\n",
    "I would write a python code to perform the following tasks mentioned:\n",
    "1. Load the data check its shape and check for null values\n",
    "2. Convert categorical features to numerical values (Use One-Hot Encoding)\n",
    "3. Split the dataset for training and testing\n",
    "4. Train the model using sklearn - Linear Regression\n",
    "5. Find the intercept and coefficient from the trained model\n",
    "6. Predict the prices of test data and evalutate the model using calculated r2 score and root mean squared error"
   ]
  },
  {
   "cell_type": "code",
   "execution_count": 2,
   "id": "e075bc46-0235-45b8-854c-78a34e984886",
   "metadata": {},
   "outputs": [],
   "source": [
    "#dataFrame manipulation and visualiztion\n",
    "import pandas as pd\n",
    "import numpy as np\n",
    "import matplotlib.pyplot as plt\n",
    "import seaborn as sns\n",
    "\n",
    "pd.set_option('Display.max_columns', None)\n",
    "pd.set_option('Display.max_rows', None)"
   ]
  },
  {
   "cell_type": "code",
   "execution_count": null,
   "id": "b6da91c3-871c-41a7-99f3-0f99721bc10a",
   "metadata": {},
   "outputs": [],
   "source": [
    "medic_cost_df = pd.read_csv(\"./../Assignment_files/insurance_ass4.csv\")"
   ]
  }
 ],
 "metadata": {
  "kernelspec": {
   "display_name": "Python 3 (ipykernel)",
   "language": "python",
   "name": "python3"
  },
  "language_info": {
   "codemirror_mode": {
    "name": "ipython",
    "version": 3
   },
   "file_extension": ".py",
   "mimetype": "text/x-python",
   "name": "python",
   "nbconvert_exporter": "python",
   "pygments_lexer": "ipython3",
   "version": "3.11.5"
  }
 },
 "nbformat": 4,
 "nbformat_minor": 5
}
