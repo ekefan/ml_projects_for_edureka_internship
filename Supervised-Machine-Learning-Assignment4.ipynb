{
 "cells": [
  {
   "cell_type": "markdown",
   "id": "ab34cde0-fecb-47cf-9bd1-6e0af83b0abd",
   "metadata": {},
   "source": [
    "# <span style=\"color:lightblue\"> DATA SCIENCE AND MACHINE LEARNING INTERNSHIP PROGRAM </span>"
   ]
  },
  {
   "cell_type": "markdown",
   "id": "78baba2a-ada0-4313-a2b0-c57e53dab413",
   "metadata": {},
   "source": [
    "<h2><center><u>Assignment_4</u></center><h2>"
   ]
  },
  {
   "cell_type": "code",
   "execution_count": 1,
   "id": "8066abd0-ea62-46bb-9cb6-90c01415eeaf",
   "metadata": {},
   "outputs": [],
   "source": [
    "# Importing useful libraries\n",
    "\n",
    "#dataFrame manipulation and visualiztion\n",
    "import pandas as pd\n",
    "import numpy as np\n",
    "import matplotlib.pyplot as plt\n",
    "\n",
    "#Needed libraries\n",
    "import datetime"
   ]
  },
  {
   "cell_type": "markdown",
   "id": "7a55c557-cdd4-4405-bdf3-0dfe21ee376b",
   "metadata": {},
   "source": [
    "## <span style=\"color:lightblue\"> **Problem Statement 1:** </span>\n",
    "The data (sample) were collected in São Paulo - Brazil, in a university, where there are some parties with groups of students from 18 to 28 years of age (average). The dataset used for this activity has 7 attributes, being a Target, with a period of one year. You have to predict the quantity of beer consumption based on the features that contain climate conditions.\n",
    "\n",
    "**Dataset Description**\n",
    "- Data: date of the record\n",
    "- Temperatura Media (C): Average temperature of the day in celsius\n",
    "- Temperatura Minima (C): Minimum temperature of the day in celsius\n",
    "- Temperatura Maxima (C): Maximum temperature of the day in celsius\n",
    "- Precipitacao (mm): Percipitation in mm\n",
    "- Final de Semana: If the day is the weekend or not\n",
    "- Consumo de cerveja (litros): Beer consumption in liters\n",
    "\n",
    "I would be writing python code to perform the following tasks mentioned:\n",
    "1. Load the dataset, check its shape\n",
    "2. Rectify the data of the first four columns\n",
    "   **Hint:** Check columns 'Temperatura Media(C)', 'Temperatura Minima (C)', 'Temperatura Maxima (C)' and 'Precipitacao'<br>\n",
    "   Fix the following errors present in these features\n",
    "3. Create new features using the 'Data' feature and the make 'Data' column as index<br>\n",
    "    **Hint:** Create a new feature 'Month' from the dates, consisting of the month of the year.<br>\n",
    "    Create a new feature 'Day' from the dates, consisting of the day of the week.\n",
    "    Set values from the 'Data' column as indexes. Use code snippet:\n",
    "    `df1.set_index('Data', inplace=True)`\n",
    "4. Handle null and duplicate values\n",
    "5. Check the data type of the features and convert them to the appropriate data type\n",
    "6. Analyse features with outlier values\n",
    "7. Plot and analyze the correlation\n",
    "8. Split the datast for training and testing\n",
    "9. Train a linear regression model and print the intercept and coefficients\n",
    "10. Evaluate the model using the R2 score, mean absolute error and root mean squared error\n"
   ]
  },
  {
   "cell_type": "markdown",
   "id": "e48fe781-0323-45c5-a0fe-ab0dd165fefb",
   "metadata": {},
   "source": [
    "#### Beer_df refers to the dataframe for the Consumo_cervea data"
   ]
  },
  {
   "cell_type": "code",
   "execution_count": 2,
   "id": "44992787-b432-428b-a0a8-5154b225f209",
   "metadata": {},
   "outputs": [
    {
     "data": {
      "text/plain": [
       "(941, 7)"
      ]
     },
     "execution_count": 2,
     "metadata": {},
     "output_type": "execute_result"
    }
   ],
   "source": [
    "beer_df = pd.read_csv(\"./../Assignment_files/Consumo_cerveja_ass4.csv\")\n",
    "beer_df.shape"
   ]
  },
  {
   "cell_type": "markdown",
   "id": "a54da581-c676-4660-a9d2-715c20d43998",
   "metadata": {},
   "source": [
    "#### creating a date column from the data column of dtype datetime so I can access the dates"
   ]
  },
  {
   "cell_type": "code",
   "execution_count": null,
   "id": "7602cccf-72de-4319-8b05-c866bc196d4c",
   "metadata": {},
   "outputs": [],
   "source": [
    "beer_df['Date'] = pd.to_datetime(beer_df[\"Data\"])\n",
    "# beer_df.drop('Data', inplace=True, axis=1)\n",
    "beer_df.head()"
   ]
  },
  {
   "cell_type": "code",
   "execution_count": 3,
   "id": "17d3261b-8272-4eeb-90a7-451d700cd4c4",
   "metadata": {},
   "outputs": [
    {
     "data": {
      "text/plain": [
       "Data                            object\n",
       "Temperatura Media (C)           object\n",
       "Temperatura Minima (C)          object\n",
       "Temperatura Maxima (C)          object\n",
       "Precipitacao (mm)               object\n",
       "Final de Semana                float64\n",
       "Consumo de cerveja (litros)    float64\n",
       "dtype: object"
      ]
     },
     "execution_count": 3,
     "metadata": {},
     "output_type": "execute_result"
    }
   ],
   "source": [
    "beer_df.dtypes"
   ]
  },
  {
   "cell_type": "markdown",
   "id": "9446b999-b433-41c6-ba96-d2c162a9571d",
   "metadata": {},
   "source": [
    "#### Creating a function to convert the other columns of dtype to floats"
   ]
  },
  {
   "cell_type": "code",
   "execution_count": 4,
   "id": "549b11a1-757e-4d14-9b79-d04eaf0d1283",
   "metadata": {},
   "outputs": [
    {
     "data": {
      "text/plain": [
       "Data                            object\n",
       "Temperatura Media (C)           object\n",
       "Temperatura Minima (C)          object\n",
       "Temperatura Maxima (C)          object\n",
       "Precipitacao (mm)               object\n",
       "Final de Semana                float64\n",
       "Consumo de cerveja (litros)    float64\n",
       "dtype: object"
      ]
     },
     "execution_count": 4,
     "metadata": {},
     "output_type": "execute_result"
    }
   ],
   "source": [
    "for column in beer_df.columns:\n",
    "    if beer_df[column].dtype == 'object':\n",
    "        beer_df[column] = beer_df[column].str.replace(\",\", \".\")\n",
    "beer_df.dtypes"
   ]
  },
  {
   "cell_type": "code",
   "execution_count": 5,
   "id": "ba043965-9512-4a72-93e9-72ed64fa60f3",
   "metadata": {},
   "outputs": [
    {
     "data": {
      "text/plain": [
       "Data                           float64\n",
       "Temperatura Media (C)          float64\n",
       "Temperatura Minima (C)         float64\n",
       "Temperatura Maxima (C)         float64\n",
       "Precipitacao (mm)              float64\n",
       "Final de Semana                float64\n",
       "Consumo de cerveja (litros)    float64\n",
       "dtype: object"
      ]
     },
     "execution_count": 5,
     "metadata": {},
     "output_type": "execute_result"
    }
   ],
   "source": [
    "beer_df = beer_df.apply(pd.to_numeric, errors='coerce')\n",
    "beer_df.dtypes"
   ]
  },
  {
   "cell_type": "code",
   "execution_count": 6,
   "id": "4d4bc024-5b47-4486-ad45-a03e696ca9da",
   "metadata": {},
   "outputs": [
    {
     "data": {
      "text/plain": [
       "Data                           datetime64[ns]\n",
       "Temperatura Media (C)                 float64\n",
       "Temperatura Minima (C)                float64\n",
       "Temperatura Maxima (C)                float64\n",
       "Precipitacao (mm)                     float64\n",
       "Final de Semana                       float64\n",
       "Consumo de cerveja (litros)           float64\n",
       "dtype: object"
      ]
     },
     "execution_count": 6,
     "metadata": {},
     "output_type": "execute_result"
    }
   ],
   "source": [
    "beer_df['Data'] = pd.to_datetime(beer_df['Data'])\n",
    "beer_df.dtypes"
   ]
  },
  {
   "cell_type": "code",
   "execution_count": null,
   "id": "624024eb-3b1b-4421-b0f1-1e9c9240de95",
   "metadata": {},
   "outputs": [],
   "source": [
    "beer_df.dtypes"
   ]
  },
  {
   "cell_type": "code",
   "execution_count": null,
   "id": "9658fe8d-b6b4-4010-9767-ae472a360b61",
   "metadata": {},
   "outputs": [],
   "source": []
  },
  {
   "cell_type": "markdown",
   "id": "791a42be-fb99-4cae-a2d9-ed68da71bd12",
   "metadata": {},
   "source": [
    "## <span style=\"color:lightblue\"> **Problem Statement 2:** </span>\n",
    "I am provided with the california housing dataset. Based on the given parameters of a house, predict its price.\n",
    "\n",
    "**Dataset Description:**\n",
    "\n",
    "The dataset contains nine features:\n",
    "- Longitude: A measure of how far west a house is; a higher value is farther west\n",
    "- Latitude: A measure of how far north a house is; a higher value is farther north\n",
    "- hosingMedianAge: Meduan age of a house within a block; a lower number is a newser building\n",
    "- total rooms: Total number of rooms withina block\n",
    "- total bedrooms: Total number of bedrooms within a block\n",
    "- populations: Total number of people residing within a block\n",
    "- households: Total number of households, a group of people residing within a home unit, for a block\n",
    "- median income: Median income for households within a block of houses (measured in tens of thousands of US Dollars)\n",
    "- median house value: Median house value for households within a block (measured in US Dollars)\n",
    "\n",
    "I'm writing a python code to perform the following tasks mentioned:\n",
    "1. Load the datam check its shape and check for null values\n",
    "2. Split the datset for training and testing - 1000- instances for testing\n",
    "3. Train the model using sklearn (Apply linear regression to train a model for prediction)\n",
    "4. Predict the prices on test data and evaluate the model by r2 score and mean absolute error\n",
    "5. Find coefficient and intercept using the trained model"
   ]
  },
  {
   "cell_type": "code",
   "execution_count": null,
   "id": "b8fc52aa-415d-4f74-ad1c-f422f86c1851",
   "metadata": {},
   "outputs": [],
   "source": []
  },
  {
   "cell_type": "markdown",
   "id": "afba5de6-ce25-45b0-8c7a-d539b5bc0529",
   "metadata": {},
   "source": [
    "## <span style=\"color:lightblue\"> **Problem Statement 3:** </span>\n",
    "I have been provided with the  medical cost dataset. I need to predict individual medical costs billed by health insurance.\n",
    "\n",
    "Dataset Description:\n",
    "- age: age of the primary beneficiary\n",
    "- sex: gender of primary beneficiary female, male\n",
    "- bmi: Body mass index, providing an understanding of the body, weights that are relatively<br>\n",
    "  high or low relative to height, an objective index of body.\n",
    "- weight(kg/m ^ 2) using the ratio of height to weight, ideally 18.5 to 24.9\n",
    "- Children: Number of children covered by health insurance / Number of dependents\n",
    "- smoker: Smokes or not\n",
    "- region: the beneficiary's residential area in the US, northest, southeast, southwest, northwest\n",
    "- charges: Individual medical costs billed by health insurance\n",
    "\n",
    "I would write a python code to perform the following tasks mentioned:\n",
    "1. Load the datam check its shape and check for null values\n",
    "2. Convert categorical features to numerical values (Use One-Hot Encoding)\n",
    "3. Split the dataset for training and testing\n",
    "4. Train the model using sklearn - Linear Regression\n",
    "5. Find the intercept and coefficient from the trained model\n",
    "6. Predict the prices of test data and evalutate the model using calculated r2 score and root mean squared error"
   ]
  },
  {
   "cell_type": "code",
   "execution_count": null,
   "id": "77d3bb1c-0611-4a00-a8e7-8ff6d4c6a7be",
   "metadata": {},
   "outputs": [],
   "source": []
  },
  {
   "cell_type": "markdown",
   "id": "e6a658a0-9373-4acf-944f-4315302ce90e",
   "metadata": {},
   "source": [
    "## <span style=\"color:lightblue\"> **Problem Statement 4:** </span>\n",
    "I have been provided with the '50_Startups' data. Using the given features, I must predict the profit of these startups.\n",
    "\n",
    "**Dataset Description:**\n",
    "- R&D Spend: Expenditures in Research and Development\n",
    "- Administration: Expenditures in Administration\n",
    "- Marketing Spend: Expenditures in Marketing\n",
    "- State: In which state the company belongs to\n",
    "- Profit: The profit made by the company\n",
    "\n",
    "I would write python code to perform the following tasks mentioned:\n",
    "1. Load the data, check its shape and check for null values\n",
    "2. Convert categorical features to numerical values using Label Encoder\n",
    "3. Split the dataset for training and testing\n",
    "4. Train the model using sklearn (linear regression), also find the intercept and coefficient from the trained model\n",
    "5. Predict the profits of test data and evaluate the model using r2 score and mean squared error\n",
    "6. Regularize the model using Ridge Regression and find the score\n",
    "7. Regularize the model using Lasso Regeression and find the score"
   ]
  },
  {
   "cell_type": "code",
   "execution_count": null,
   "id": "2d84d982-82f8-49b2-bf37-4d6a79509a70",
   "metadata": {},
   "outputs": [],
   "source": []
  }
 ],
 "metadata": {
  "kernelspec": {
   "display_name": "Python 3 (ipykernel)",
   "language": "python",
   "name": "python3"
  },
  "language_info": {
   "codemirror_mode": {
    "name": "ipython",
    "version": 3
   },
   "file_extension": ".py",
   "mimetype": "text/x-python",
   "name": "python",
   "nbconvert_exporter": "python",
   "pygments_lexer": "ipython3",
   "version": "3.11.5"
  }
 },
 "nbformat": 4,
 "nbformat_minor": 5
}
