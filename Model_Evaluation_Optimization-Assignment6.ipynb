{
 "cells": [
  {
   "attachments": {},
   "cell_type": "markdown",
   "id": "d8ef4077-5d18-42c3-befd-1024a7a72bba",
   "metadata": {},
   "source": [
    "# <span style=\"color:lightblue\">DATA SCIENCE AND MACHINE LEARNING INTERNSHIP PROGRAM</span>\n"
   ]
  },
  {
   "cell_type": "markdown",
   "id": "ed2f4d4c-3bd1-4b0d-b6d3-c72560331a07",
   "metadata": {},
   "source": [
    "<h2><center><u>Assignment_6</u></center><h2>"
   ]
  },
  {
   "cell_type": "code",
   "execution_count": 1,
   "id": "bd0afe87-47a5-42f3-b880-c86d7460010f",
   "metadata": {},
   "outputs": [],
   "source": [
    "#Importing the useful Libraries\n",
    "\n",
    "\n",
    "#dataFrame manipulation and visualization\n",
    "import pandas as pd\n",
    "import numpy as np\n",
    "import matplotlib.pyplot as plt\n",
    "import seaborn as sns\n",
    "\n",
    "import warnings\n",
    "warnings.filterwarnings('ignore')\n",
    "# pd.set_option(\"Display.max_columns\", None)\n",
    "# pd.set_option(\"Display.max_rows\", None)\n",
    "\n"
   ]
  },
  {
   "cell_type": "markdown",
   "id": "10931b6f-f468-49f5-8fab-3dd7c0679657",
   "metadata": {},
   "source": [
    "## <span style=\"color:lightblue\">**Problem Statement  1:**</span>\n",
    "Load the \"Breast_Cancer_Dataset.csv\" dataset into a DataFrame and perform the following task:\n",
    "1. Identify the null values and remove the null rows and columns by using the dropna() function\n",
    "2. Encode the 'diagnosis' column using the LabelEncoder()\n",
    "3. Considering the 'diagnosis' column as the target, separate the target variable and the feature vectors\n",
    "4. Split the dataset into the training set and test set in a 70:30 ratio\n",
    "5. Building a Logistic Regression, Naive Bayes, Decision Tree (CART), K-NN, SVM, and RandomForestClassifier models; Also print their accuracies\n",
    "6. Calculate and plot the confusion matrix"
   ]
  },
  {
   "cell_type": "code",
   "execution_count": null,
   "id": "1e7d539d-eb53-48c8-87fb-085804f3b73c",
   "metadata": {},
   "outputs": [],
   "source": []
  },
  {
   "cell_type": "markdown",
   "id": "740a4585-748f-4ae6-bdfa-4bd0c3b925c0",
   "metadata": {},
   "source": [
    "## <span style=\"color:lightblue\">**Problem Statement  2:**</span>\n",
    "Load the 'Breast_Cancer_Dataset.csv' dataset into a DataFrame and perform the following task:\n",
    "1. Identify the null values and remove the null rows and columns by using the dropna() function\n",
    "2. Considering the 'diagnosis' column as the target, encode the 'diagnosis' column using the LabelEncoder()\n",
    "3. Separate the target variable and the feature vectors\n",
    "4. Split the dataset into the training set and test set in a 70:30 ratio\n",
    "5. Building a Logistic Regression, Naive Bayes, Decision Tree(CART), K-NN, SVM, and RandomForestClassifier models; Also, print their accuraries\n",
    "6. Calculate the ROC_AUC score based on the False Positive Rate (FPR) and True Positive Rate (TPR)\n",
    "7. Plot the ROC Curve using the Matplotlib library\n",
    "8. Calculate the F1 Score\n",
    "9. Calculate and print the Precision, Recall, and F1 score usig the classification_report() function"
   ]
  },
  {
   "cell_type": "code",
   "execution_count": null,
   "id": "dfafa4ce-32d9-4c36-b8df-7ab48de4ea20",
   "metadata": {},
   "outputs": [],
   "source": []
  },
  {
   "cell_type": "markdown",
   "id": "a5f5ded6-fa70-486b-a26b-160b23712957",
   "metadata": {},
   "source": [
    "## <span style=\"color:lightblue\">**Problem Statement  3:**</span>\n",
    "Load the 'voice.csv' dataset into a DataFrame and perform the following tasks:\n",
    "1. Considering the 'label' column as the target variable, rename the column as 'Gender_Identified'\n",
    "2. Using the preprocessing() function, label the target column\n",
    "3. Separate the target variable and the feature vectors\n",
    "4. Build a RandomForestClassifier model and find the best parameters using a Grid search\n",
    "5. Print the best parameters and the best estimator"
   ]
  },
  {
   "cell_type": "code",
   "execution_count": null,
   "id": "5e2c0206-d8cd-4b27-aa53-8abb36dc3ca5",
   "metadata": {},
   "outputs": [],
   "source": []
  },
  {
   "cell_type": "markdown",
   "id": "ae30e9b0-d013-41f1-aa03-8816b357ad4b",
   "metadata": {},
   "source": [
    "## <span style=\"color:lightblue\">**Problem Statement  4:**</span>\n",
    "The 'seeds.csv' dataset contains the data about the wheat seeds, the 'Type' column consist of three unique values, 1, 2, 3, which are classified based on the characteristics of seeds entailing in other columns\n",
    "\n",
    "\n",
    "Load the 'seeds.csv' dataset into a DataFrame and perform the following tasks:\n",
    "1. Considering the 'Type' column as target, analyse the target column by printing the unique values\n",
    "2. Separate the feature vectors and the target variable\n",
    "3. Split the dataset into train and test sets in a 70:30 ratio\n",
    "4. Build a Decision Tree Classifier and a GuassianNB model and print their accuracy scores\n",
    "5. For the Decision Tree Classifier and a GuassianNB models boost the accuracy using ADA Boost Classifier and compare the accuracy scores with original models using a bar plot"
   ]
  },
  {
   "cell_type": "code",
   "execution_count": null,
   "id": "75802844-5ac0-4f47-9e18-d3acb3891cc2",
   "metadata": {},
   "outputs": [],
   "source": []
  },
  {
   "cell_type": "code",
   "execution_count": null,
   "id": "a2fe62b1-5580-4149-9342-a5d76b389725",
   "metadata": {},
   "outputs": [],
   "source": []
  }
 ],
 "metadata": {
  "kernelspec": {
   "display_name": "Python 3 (ipykernel)",
   "language": "python",
   "name": "python3"
  },
  "language_info": {
   "codemirror_mode": {
    "name": "ipython",
    "version": 3
   },
   "file_extension": ".py",
   "mimetype": "text/x-python",
   "name": "python",
   "nbconvert_exporter": "python",
   "pygments_lexer": "ipython3",
   "version": "3.11.5"
  }
 },
 "nbformat": 4,
 "nbformat_minor": 5
}
