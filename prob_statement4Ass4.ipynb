{
 "cells": [
  {
   "cell_type": "markdown",
   "id": "c573eec6-9810-4dec-b31e-734089643dd3",
   "metadata": {},
   "source": [
    "## <span style=\"color:lightblue\"> **Problem Statement 4:** </span>\n",
    "I have been provided with the '50_Startups' data. Using the given features, I must predict the profit of these startups.\n",
    "\n",
    "**Dataset Description:**\n",
    "- R&D Spend: Expenditures in Research and Development\n",
    "- Administration: Expenditures in Administration\n",
    "- Marketing Spend: Expenditures in Marketing\n",
    "- State: In which state the company belongs to\n",
    "- Profit: The profit made by the company\n",
    "\n",
    "I would write python code to perform the following tasks mentioned:\n",
    "1. Load the data, check its shape and check for null values\n",
    "2. Convert categorical features to numerical values using Label Encoder\n",
    "3. Split the dataset for training and testing\n",
    "4. Train the model using sklearn (linear regression), also find the intercept and coefficient from the trained model\n",
    "5. Predict the profits of test data and evaluate the model using r2 score and mean squared error\n",
    "6. Regularize the model using Ridge Regression and find the score\n",
    "7. Regularize the model using Lasso Regeression and find the score"
   ]
  },
  {
   "cell_type": "code",
   "execution_count": 43,
   "id": "a82c94f1-87de-45fb-9c0f-db1506d6bbb8",
   "metadata": {},
   "outputs": [],
   "source": [
    "# Importing useful libraries\n",
    "\n",
    "#dataFrame manipulation and visualiztion\n",
    "import pandas as pd\n",
    "import numpy as np\n",
    "import matplotlib.pyplot as plt\n",
    "import seaborn as sns\n",
    "\n",
    "pd.set_option('Display.max_columns', None)\n",
    "pd.set_option('Display.max_rows', None)\n",
    "\n",
    "#Needed libraries\n",
    "import datetime\n",
    "import math\n",
    "\n",
    "from sklearn.preprocessing import LabelEncoder\n",
    "from sklearn.preprocessing import normalize\n",
    "from sklearn.model_selection import train_test_split\n",
    "from sklearn.linear_model import LinearRegression\n",
    "from sklearn.metrics import mean_absolute_error, mean_squared_error, r2_score\n",
    "from sklearn.linear_model import Lasso\n",
    "from sklearn.linear_model import Ridge"
   ]
  },
  {
   "cell_type": "code",
   "execution_count": 3,
   "id": "3395d7f8-6621-4083-85f3-59a3b9c0e678",
   "metadata": {},
   "outputs": [
    {
     "data": {
      "text/html": [
       "<div>\n",
       "<style scoped>\n",
       "    .dataframe tbody tr th:only-of-type {\n",
       "        vertical-align: middle;\n",
       "    }\n",
       "\n",
       "    .dataframe tbody tr th {\n",
       "        vertical-align: top;\n",
       "    }\n",
       "\n",
       "    .dataframe thead th {\n",
       "        text-align: right;\n",
       "    }\n",
       "</style>\n",
       "<table border=\"1\" class=\"dataframe\">\n",
       "  <thead>\n",
       "    <tr style=\"text-align: right;\">\n",
       "      <th></th>\n",
       "      <th>R&amp;D Spend</th>\n",
       "      <th>Administration</th>\n",
       "      <th>Marketing Spend</th>\n",
       "      <th>State</th>\n",
       "      <th>Profit</th>\n",
       "    </tr>\n",
       "  </thead>\n",
       "  <tbody>\n",
       "    <tr>\n",
       "      <th>0</th>\n",
       "      <td>165349.20</td>\n",
       "      <td>136897.80</td>\n",
       "      <td>471784.10</td>\n",
       "      <td>New York</td>\n",
       "      <td>192261.83</td>\n",
       "    </tr>\n",
       "    <tr>\n",
       "      <th>1</th>\n",
       "      <td>162597.70</td>\n",
       "      <td>151377.59</td>\n",
       "      <td>443898.53</td>\n",
       "      <td>California</td>\n",
       "      <td>191792.06</td>\n",
       "    </tr>\n",
       "    <tr>\n",
       "      <th>2</th>\n",
       "      <td>153441.51</td>\n",
       "      <td>101145.55</td>\n",
       "      <td>407934.54</td>\n",
       "      <td>Florida</td>\n",
       "      <td>191050.39</td>\n",
       "    </tr>\n",
       "    <tr>\n",
       "      <th>3</th>\n",
       "      <td>144372.41</td>\n",
       "      <td>118671.85</td>\n",
       "      <td>383199.62</td>\n",
       "      <td>New York</td>\n",
       "      <td>182901.99</td>\n",
       "    </tr>\n",
       "    <tr>\n",
       "      <th>4</th>\n",
       "      <td>142107.34</td>\n",
       "      <td>91391.77</td>\n",
       "      <td>366168.42</td>\n",
       "      <td>Florida</td>\n",
       "      <td>166187.94</td>\n",
       "    </tr>\n",
       "  </tbody>\n",
       "</table>\n",
       "</div>"
      ],
      "text/plain": [
       "   R&D Spend  Administration  Marketing Spend       State     Profit\n",
       "0  165349.20       136897.80        471784.10    New York  192261.83\n",
       "1  162597.70       151377.59        443898.53  California  191792.06\n",
       "2  153441.51       101145.55        407934.54     Florida  191050.39\n",
       "3  144372.41       118671.85        383199.62    New York  182901.99\n",
       "4  142107.34        91391.77        366168.42     Florida  166187.94"
      ]
     },
     "execution_count": 3,
     "metadata": {},
     "output_type": "execute_result"
    }
   ],
   "source": [
    "#Task1: Loading the data, checking its shape and checking for null values\n",
    "startups_df = pd.read_csv(\"./../Assignment_files/50_Startups_ass4.csv\")\n",
    "startups_df.head()"
   ]
  },
  {
   "cell_type": "code",
   "execution_count": 4,
   "id": "9e584ab8-b97d-4cb5-8036-e6355bdcede6",
   "metadata": {},
   "outputs": [
    {
     "data": {
      "text/plain": [
       "R&D Spend          0\n",
       "Administration     0\n",
       "Marketing Spend    0\n",
       "State              0\n",
       "Profit             0\n",
       "dtype: int64"
      ]
     },
     "execution_count": 4,
     "metadata": {},
     "output_type": "execute_result"
    }
   ],
   "source": [
    "startups_df.isna().sum()"
   ]
  },
  {
   "cell_type": "code",
   "execution_count": 6,
   "id": "c5a9d14d-4b83-43e8-a55c-833bca90d8c8",
   "metadata": {},
   "outputs": [
    {
     "data": {
      "text/plain": [
       "(0, (50, 5))"
      ]
     },
     "execution_count": 6,
     "metadata": {},
     "output_type": "execute_result"
    }
   ],
   "source": [
    "startups_df.duplicated().sum(), startups_df.shape"
   ]
  },
  {
   "cell_type": "code",
   "execution_count": 8,
   "id": "6eb1a525-95e4-42d6-b5a4-63b002620314",
   "metadata": {},
   "outputs": [
    {
     "data": {
      "text/plain": [
       "R&D Spend          float64\n",
       "Administration     float64\n",
       "Marketing Spend    float64\n",
       "State               object\n",
       "Profit             float64\n",
       "dtype: object"
      ]
     },
     "execution_count": 8,
     "metadata": {},
     "output_type": "execute_result"
    }
   ],
   "source": [
    "startups_df.dtypes"
   ]
  },
  {
   "cell_type": "code",
   "execution_count": 31,
   "id": "4b92f565-20ef-4ab0-a1a9-e0410d5f82d4",
   "metadata": {},
   "outputs": [
    {
     "data": {
      "text/html": [
       "<div>\n",
       "<style scoped>\n",
       "    .dataframe tbody tr th:only-of-type {\n",
       "        vertical-align: middle;\n",
       "    }\n",
       "\n",
       "    .dataframe tbody tr th {\n",
       "        vertical-align: top;\n",
       "    }\n",
       "\n",
       "    .dataframe thead th {\n",
       "        text-align: right;\n",
       "    }\n",
       "</style>\n",
       "<table border=\"1\" class=\"dataframe\">\n",
       "  <thead>\n",
       "    <tr style=\"text-align: right;\">\n",
       "      <th></th>\n",
       "      <th>R&amp;D Spend</th>\n",
       "      <th>Administration</th>\n",
       "      <th>Marketing Spend</th>\n",
       "      <th>Profit</th>\n",
       "      <th>State_California</th>\n",
       "      <th>State_Florida</th>\n",
       "      <th>State_New York</th>\n",
       "      <th>State</th>\n",
       "    </tr>\n",
       "  </thead>\n",
       "  <tbody>\n",
       "    <tr>\n",
       "      <th>0</th>\n",
       "      <td>165349.20</td>\n",
       "      <td>136897.80</td>\n",
       "      <td>471784.10</td>\n",
       "      <td>192261.83</td>\n",
       "      <td>0.0</td>\n",
       "      <td>0.0</td>\n",
       "      <td>1.0</td>\n",
       "      <td>2</td>\n",
       "    </tr>\n",
       "    <tr>\n",
       "      <th>1</th>\n",
       "      <td>162597.70</td>\n",
       "      <td>151377.59</td>\n",
       "      <td>443898.53</td>\n",
       "      <td>191792.06</td>\n",
       "      <td>1.0</td>\n",
       "      <td>0.0</td>\n",
       "      <td>0.0</td>\n",
       "      <td>0</td>\n",
       "    </tr>\n",
       "    <tr>\n",
       "      <th>2</th>\n",
       "      <td>153441.51</td>\n",
       "      <td>101145.55</td>\n",
       "      <td>407934.54</td>\n",
       "      <td>191050.39</td>\n",
       "      <td>0.0</td>\n",
       "      <td>1.0</td>\n",
       "      <td>0.0</td>\n",
       "      <td>1</td>\n",
       "    </tr>\n",
       "    <tr>\n",
       "      <th>3</th>\n",
       "      <td>144372.41</td>\n",
       "      <td>118671.85</td>\n",
       "      <td>383199.62</td>\n",
       "      <td>182901.99</td>\n",
       "      <td>0.0</td>\n",
       "      <td>0.0</td>\n",
       "      <td>1.0</td>\n",
       "      <td>2</td>\n",
       "    </tr>\n",
       "    <tr>\n",
       "      <th>4</th>\n",
       "      <td>142107.34</td>\n",
       "      <td>91391.77</td>\n",
       "      <td>366168.42</td>\n",
       "      <td>166187.94</td>\n",
       "      <td>0.0</td>\n",
       "      <td>1.0</td>\n",
       "      <td>0.0</td>\n",
       "      <td>1</td>\n",
       "    </tr>\n",
       "  </tbody>\n",
       "</table>\n",
       "</div>"
      ],
      "text/plain": [
       "   R&D Spend  Administration  Marketing Spend     Profit  State_California  \\\n",
       "0  165349.20       136897.80        471784.10  192261.83               0.0   \n",
       "1  162597.70       151377.59        443898.53  191792.06               1.0   \n",
       "2  153441.51       101145.55        407934.54  191050.39               0.0   \n",
       "3  144372.41       118671.85        383199.62  182901.99               0.0   \n",
       "4  142107.34        91391.77        366168.42  166187.94               0.0   \n",
       "\n",
       "   State_Florida  State_New York  State  \n",
       "0            0.0             1.0      2  \n",
       "1            0.0             0.0      0  \n",
       "2            1.0             0.0      1  \n",
       "3            0.0             1.0      2  \n",
       "4            1.0             0.0      1  "
      ]
     },
     "execution_count": 31,
     "metadata": {},
     "output_type": "execute_result"
    }
   ],
   "source": [
    "#Task 2: Converting the categorical features to numerical values using LabelEncoder\n",
    "cat_column = \"State\"\n",
    "\n",
    "encoder = LabelEncoder()\n",
    "\n",
    "encoded_data = encoder.fit_transform(startups_df[cat_column])\n",
    "encoded_df = pd.DataFrame(encoded_data, columns=[cat_column])\n",
    "transformed_startups[\"State\"] = encoded_df\n",
    "transformed_startups.head()"
   ]
  },
  {
   "cell_type": "markdown",
   "id": "eafb6bcd-c2d9-4fc9-8fae-a62b3e09b7d4",
   "metadata": {},
   "source": [
    "after OneHotEncoding the state column, I would normalize the other coloumns to have values between 0 and 1 so the model can do better"
   ]
  },
  {
   "cell_type": "code",
   "execution_count": 32,
   "id": "1aee88e3-f93f-4f86-95ff-502911638a24",
   "metadata": {},
   "outputs": [
    {
     "data": {
      "text/html": [
       "<div>\n",
       "<style scoped>\n",
       "    .dataframe tbody tr th:only-of-type {\n",
       "        vertical-align: middle;\n",
       "    }\n",
       "\n",
       "    .dataframe tbody tr th {\n",
       "        vertical-align: top;\n",
       "    }\n",
       "\n",
       "    .dataframe thead th {\n",
       "        text-align: right;\n",
       "    }\n",
       "</style>\n",
       "<table border=\"1\" class=\"dataframe\">\n",
       "  <thead>\n",
       "    <tr style=\"text-align: right;\">\n",
       "      <th></th>\n",
       "      <th>Profit</th>\n",
       "      <th>State_California</th>\n",
       "      <th>State_Florida</th>\n",
       "      <th>State_New York</th>\n",
       "      <th>State</th>\n",
       "      <th>R&amp;D Spend</th>\n",
       "      <th>Administration</th>\n",
       "      <th>Marketing Spend</th>\n",
       "    </tr>\n",
       "  </thead>\n",
       "  <tbody>\n",
       "    <tr>\n",
       "      <th>0</th>\n",
       "      <td>192261.83</td>\n",
       "      <td>0.0</td>\n",
       "      <td>0.0</td>\n",
       "      <td>1.0</td>\n",
       "      <td>2</td>\n",
       "      <td>0.319006</td>\n",
       "      <td>0.264115</td>\n",
       "      <td>0.910208</td>\n",
       "    </tr>\n",
       "    <tr>\n",
       "      <th>1</th>\n",
       "      <td>191792.06</td>\n",
       "      <td>1.0</td>\n",
       "      <td>0.0</td>\n",
       "      <td>0.0</td>\n",
       "      <td>0</td>\n",
       "      <td>0.327563</td>\n",
       "      <td>0.304959</td>\n",
       "      <td>0.894261</td>\n",
       "    </tr>\n",
       "    <tr>\n",
       "      <th>2</th>\n",
       "      <td>191050.39</td>\n",
       "      <td>0.0</td>\n",
       "      <td>1.0</td>\n",
       "      <td>0.0</td>\n",
       "      <td>1</td>\n",
       "      <td>0.342947</td>\n",
       "      <td>0.226064</td>\n",
       "      <td>0.911747</td>\n",
       "    </tr>\n",
       "    <tr>\n",
       "      <th>3</th>\n",
       "      <td>182901.99</td>\n",
       "      <td>0.0</td>\n",
       "      <td>0.0</td>\n",
       "      <td>1.0</td>\n",
       "      <td>2</td>\n",
       "      <td>0.338630</td>\n",
       "      <td>0.278348</td>\n",
       "      <td>0.898806</td>\n",
       "    </tr>\n",
       "    <tr>\n",
       "      <th>4</th>\n",
       "      <td>166187.94</td>\n",
       "      <td>0.0</td>\n",
       "      <td>1.0</td>\n",
       "      <td>0.0</td>\n",
       "      <td>1</td>\n",
       "      <td>0.352388</td>\n",
       "      <td>0.226627</td>\n",
       "      <td>0.907999</td>\n",
       "    </tr>\n",
       "  </tbody>\n",
       "</table>\n",
       "</div>"
      ],
      "text/plain": [
       "      Profit  State_California  State_Florida  State_New York  State  \\\n",
       "0  192261.83               0.0            0.0             1.0      2   \n",
       "1  191792.06               1.0            0.0             0.0      0   \n",
       "2  191050.39               0.0            1.0             0.0      1   \n",
       "3  182901.99               0.0            0.0             1.0      2   \n",
       "4  166187.94               0.0            1.0             0.0      1   \n",
       "\n",
       "   R&D Spend  Administration  Marketing Spend  \n",
       "0   0.319006        0.264115         0.910208  \n",
       "1   0.327563        0.304959         0.894261  \n",
       "2   0.342947        0.226064         0.911747  \n",
       "3   0.338630        0.278348         0.898806  \n",
       "4   0.352388        0.226627         0.907999  "
      ]
     },
     "execution_count": 32,
     "metadata": {},
     "output_type": "execute_result"
    }
   ],
   "source": [
    "columns = [\"R&D Spend\", \"Administration\", \"Marketing Spend\",]\n",
    "\n",
    "norm_data = normalize(transformed_startups[columns])\n",
    "scaled_df = pd.DataFrame(norm_data, columns=columns)\n",
    "# scaled_df.head()\n",
    "scaled_startup = transformed_startups.drop(columns, axis=1)\n",
    "scaled_startup = pd.concat([scaled_startup, scaled_df], axis=1)\n",
    "scaled_startup.head()"
   ]
  },
  {
   "cell_type": "code",
   "execution_count": 35,
   "id": "764238e9-981d-4156-ad1c-e7759cd09d8e",
   "metadata": {},
   "outputs": [],
   "source": [
    "#Task3: spliting the dataset for training and testing\n",
    "X = scaled_startup.drop(\"Profit\", axis=1)\n",
    "y = scaled_startup[\"Profit\"]\n",
    "\n",
    "\n",
    "X_train, X_test, y_train, y_test = train_test_split(X, y, test_size=0.2)"
   ]
  },
  {
   "cell_type": "code",
   "execution_count": 37,
   "id": "c0d9dbaa-1c3d-44a1-9216-ce019925612f",
   "metadata": {},
   "outputs": [
    {
     "data": {
      "text/plain": [
       "0.8111090083938026"
      ]
     },
     "execution_count": 37,
     "metadata": {},
     "output_type": "execute_result"
    }
   ],
   "source": [
    "# Task4:  training the model using sklearn(linear regression)\n",
    "model = LinearRegression()\n",
    "model.fit(X_train, y_train)\n",
    "model.score(X_train, y_train)"
   ]
  },
  {
   "cell_type": "code",
   "execution_count": 38,
   "id": "259e6028-fc83-46a6-b18e-88d757d2a3a9",
   "metadata": {},
   "outputs": [
    {
     "data": {
      "text/plain": [
       "(194768.70500908702,\n",
       " array([   -905.32791889,    -653.8377094 ,    1559.16562829,\n",
       "           2464.49354718,  184865.52520949, -158716.93131074,\n",
       "         -67060.74303457]))"
      ]
     },
     "execution_count": 38,
     "metadata": {},
     "output_type": "execute_result"
    }
   ],
   "source": [
    "#Finding the intercept and coefficient from the trained model\n",
    "model.intercept_, model.coef_"
   ]
  },
  {
   "cell_type": "code",
   "execution_count": 40,
   "id": "07caf7c9-1e4c-4af9-858e-22e1f1b196e0",
   "metadata": {},
   "outputs": [
    {
     "data": {
      "text/plain": [
       "(0.7203173364073493, 11985.309148849714, 16297.576557465418)"
      ]
     },
     "execution_count": 40,
     "metadata": {},
     "output_type": "execute_result"
    }
   ],
   "source": [
    "# Task5: predicting the profits of test data and evaluate the model using r2 score and mean squared error\n",
    "y_preds = model.predict(X_test)\n",
    "\n",
    "r2score = r2_score(y_preds, y_test)\n",
    "mae = mean_absolute_error(y_preds, y_test)\n",
    "rmse = math.sqrt(mean_squared_error(y_preds, y_test))\n",
    "r2score, mae, rmse"
   ]
  },
  {
   "cell_type": "code",
   "execution_count": null,
   "id": "67b861de-7c4d-49a0-8851-b8665e3f58a2",
   "metadata": {},
   "outputs": [],
   "source": [
    "#Task6: Regularizing the model using Ridge Regression\n",
    "ridge = Ridge(alpha=0.1)\n",
    "ridge.fit(X_train, y-train"
   ]
  },
  {
   "cell_type": "code",
   "execution_count": 42,
   "id": "d5594f40-9b27-431e-be4f-de8b25b075b9",
   "metadata": {},
   "outputs": [
    {
     "data": {
      "text/plain": [
       "(0.8111090053092881, 0.7671702785477617)"
      ]
     },
     "execution_count": 42,
     "metadata": {},
     "output_type": "execute_result"
    }
   ],
   "source": [
    "#Task7: Regularizing the model using Lasso Regression\n",
    "lasso = Lasso(alpha=0.1)\n",
    "lasso.fit(X_train, y_train)\n",
    "lasso.score(X_train, y_train), lasso.score(X_test, y_test)"
   ]
  },
  {
   "cell_type": "code",
   "execution_count": null,
   "id": "5697ea5e-5f7a-4e70-9edf-431490b73cc6",
   "metadata": {},
   "outputs": [],
   "source": []
  }
 ],
 "metadata": {
  "kernelspec": {
   "display_name": "Python 3 (ipykernel)",
   "language": "python",
   "name": "python3"
  },
  "language_info": {
   "codemirror_mode": {
    "name": "ipython",
    "version": 3
   },
   "file_extension": ".py",
   "mimetype": "text/x-python",
   "name": "python",
   "nbconvert_exporter": "python",
   "pygments_lexer": "ipython3",
   "version": "3.11.5"
  }
 },
 "nbformat": 4,
 "nbformat_minor": 5
}
